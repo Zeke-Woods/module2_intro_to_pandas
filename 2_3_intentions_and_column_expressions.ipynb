{
  "cells": [
    {
      "cell_type": "markdown",
      "metadata": {
        "id": "view-in-github",
        "colab_type": "text"
      },
      "source": [
        "<a href=\"https://colab.research.google.com/github/Zeke-Woods/module2_intro_to_pandas/blob/main/2_3_intentions_and_column_expressions.ipynb\" target=\"_parent\"><img src=\"https://colab.research.google.com/assets/colab-badge.svg\" alt=\"Open In Colab\"/></a>"
      ]
    },
    {
      "cell_type": "markdown",
      "metadata": {
        "id": "f2c7plMJZkCd"
      },
      "source": [
        "# More on Intentions and Column Expressions"
      ]
    },
    {
      "cell_type": "code",
      "source": [
        "# Be sure you installed dfply\n",
        "!pip install dfply"
      ],
      "metadata": {
        "colab": {
          "base_uri": "https://localhost:8080/"
        },
        "id": "f01SSFqmZ57S",
        "outputId": "a4fdf008-5733-40eb-f3da-80ba1171d911"
      },
      "execution_count": null,
      "outputs": [
        {
          "output_type": "stream",
          "name": "stdout",
          "text": [
            "Looking in indexes: https://pypi.org/simple, https://us-python.pkg.dev/colab-wheels/public/simple/\n",
            "Collecting dfply\n",
            "  Downloading dfply-0.3.3-py3-none-any.whl (612 kB)\n",
            "\u001b[K     |████████████████████████████████| 612 kB 22.0 MB/s \n",
            "\u001b[?25hRequirement already satisfied: numpy in /usr/local/lib/python3.7/dist-packages (from dfply) (1.21.6)\n",
            "Requirement already satisfied: pandas in /usr/local/lib/python3.7/dist-packages (from dfply) (1.3.5)\n",
            "Requirement already satisfied: python-dateutil>=2.7.3 in /usr/local/lib/python3.7/dist-packages (from pandas->dfply) (2.8.2)\n",
            "Requirement already satisfied: pytz>=2017.3 in /usr/local/lib/python3.7/dist-packages (from pandas->dfply) (2022.2.1)\n",
            "Requirement already satisfied: six>=1.5 in /usr/local/lib/python3.7/dist-packages (from python-dateutil>=2.7.3->pandas->dfply) (1.15.0)\n",
            "Installing collected packages: dfply\n",
            "Successfully installed dfply-0.3.3\n"
          ]
        }
      ]
    },
    {
      "cell_type": "code",
      "execution_count": null,
      "metadata": {
        "id": "GG0XVGVpZkCe"
      },
      "outputs": [],
      "source": [
        "import pandas as pd\n",
        "from dfply import *\n",
        "import matplotlib.pylab as plt\n",
        "%matplotlib inline"
      ]
    },
    {
      "cell_type": "code",
      "execution_count": null,
      "metadata": {
        "id": "FhuP8tgcZkCf",
        "outputId": "7d356884-fbaa-4d2d-aa54-0d8ca83766e3",
        "colab": {
          "base_uri": "https://localhost:8080/",
          "height": 374
        }
      },
      "outputs": [
        {
          "output_type": "execute_result",
          "data": {
            "text/plain": [
              "   ConstituentID      DisplayName            ArtistBio Nationality Gender  \\\n",
              "0              1   Robert Arneson  American, 1930–1992    American   Male   \n",
              "1              2   Doroteo Arnaiz   Spanish, born 1936     Spanish   Male   \n",
              "2              3      Bill Arnold  American, born 1941    American   Male   \n",
              "3              4  Charles Arnoldi  American, born 1946    American   Male   \n",
              "4              5      Per Arnoldi    Danish, born 1941      Danish   Male   \n",
              "\n",
              "   BeginDate  EndDate  Wiki QID         ULAN  \n",
              "0       1930     1992       NaN          NaN  \n",
              "1       1936        0       NaN          NaN  \n",
              "2       1941        0       NaN          NaN  \n",
              "3       1946        0  Q1063584  500027998.0  \n",
              "4       1941        0       NaN          NaN  "
            ],
            "text/html": [
              "\n",
              "  <div id=\"df-044f44cc-2ab6-48d8-ba45-942eeb3706ee\">\n",
              "    <div class=\"colab-df-container\">\n",
              "      <div>\n",
              "<style scoped>\n",
              "    .dataframe tbody tr th:only-of-type {\n",
              "        vertical-align: middle;\n",
              "    }\n",
              "\n",
              "    .dataframe tbody tr th {\n",
              "        vertical-align: top;\n",
              "    }\n",
              "\n",
              "    .dataframe thead th {\n",
              "        text-align: right;\n",
              "    }\n",
              "</style>\n",
              "<table border=\"1\" class=\"dataframe\">\n",
              "  <thead>\n",
              "    <tr style=\"text-align: right;\">\n",
              "      <th></th>\n",
              "      <th>ConstituentID</th>\n",
              "      <th>DisplayName</th>\n",
              "      <th>ArtistBio</th>\n",
              "      <th>Nationality</th>\n",
              "      <th>Gender</th>\n",
              "      <th>BeginDate</th>\n",
              "      <th>EndDate</th>\n",
              "      <th>Wiki QID</th>\n",
              "      <th>ULAN</th>\n",
              "    </tr>\n",
              "  </thead>\n",
              "  <tbody>\n",
              "    <tr>\n",
              "      <th>0</th>\n",
              "      <td>1</td>\n",
              "      <td>Robert Arneson</td>\n",
              "      <td>American, 1930–1992</td>\n",
              "      <td>American</td>\n",
              "      <td>Male</td>\n",
              "      <td>1930</td>\n",
              "      <td>1992</td>\n",
              "      <td>NaN</td>\n",
              "      <td>NaN</td>\n",
              "    </tr>\n",
              "    <tr>\n",
              "      <th>1</th>\n",
              "      <td>2</td>\n",
              "      <td>Doroteo Arnaiz</td>\n",
              "      <td>Spanish, born 1936</td>\n",
              "      <td>Spanish</td>\n",
              "      <td>Male</td>\n",
              "      <td>1936</td>\n",
              "      <td>0</td>\n",
              "      <td>NaN</td>\n",
              "      <td>NaN</td>\n",
              "    </tr>\n",
              "    <tr>\n",
              "      <th>2</th>\n",
              "      <td>3</td>\n",
              "      <td>Bill Arnold</td>\n",
              "      <td>American, born 1941</td>\n",
              "      <td>American</td>\n",
              "      <td>Male</td>\n",
              "      <td>1941</td>\n",
              "      <td>0</td>\n",
              "      <td>NaN</td>\n",
              "      <td>NaN</td>\n",
              "    </tr>\n",
              "    <tr>\n",
              "      <th>3</th>\n",
              "      <td>4</td>\n",
              "      <td>Charles Arnoldi</td>\n",
              "      <td>American, born 1946</td>\n",
              "      <td>American</td>\n",
              "      <td>Male</td>\n",
              "      <td>1946</td>\n",
              "      <td>0</td>\n",
              "      <td>Q1063584</td>\n",
              "      <td>500027998.0</td>\n",
              "    </tr>\n",
              "    <tr>\n",
              "      <th>4</th>\n",
              "      <td>5</td>\n",
              "      <td>Per Arnoldi</td>\n",
              "      <td>Danish, born 1941</td>\n",
              "      <td>Danish</td>\n",
              "      <td>Male</td>\n",
              "      <td>1941</td>\n",
              "      <td>0</td>\n",
              "      <td>NaN</td>\n",
              "      <td>NaN</td>\n",
              "    </tr>\n",
              "  </tbody>\n",
              "</table>\n",
              "</div>\n",
              "      <button class=\"colab-df-convert\" onclick=\"convertToInteractive('df-044f44cc-2ab6-48d8-ba45-942eeb3706ee')\"\n",
              "              title=\"Convert this dataframe to an interactive table.\"\n",
              "              style=\"display:none;\">\n",
              "        \n",
              "  <svg xmlns=\"http://www.w3.org/2000/svg\" height=\"24px\"viewBox=\"0 0 24 24\"\n",
              "       width=\"24px\">\n",
              "    <path d=\"M0 0h24v24H0V0z\" fill=\"none\"/>\n",
              "    <path d=\"M18.56 5.44l.94 2.06.94-2.06 2.06-.94-2.06-.94-.94-2.06-.94 2.06-2.06.94zm-11 1L8.5 8.5l.94-2.06 2.06-.94-2.06-.94L8.5 2.5l-.94 2.06-2.06.94zm10 10l.94 2.06.94-2.06 2.06-.94-2.06-.94-.94-2.06-.94 2.06-2.06.94z\"/><path d=\"M17.41 7.96l-1.37-1.37c-.4-.4-.92-.59-1.43-.59-.52 0-1.04.2-1.43.59L10.3 9.45l-7.72 7.72c-.78.78-.78 2.05 0 2.83L4 21.41c.39.39.9.59 1.41.59.51 0 1.02-.2 1.41-.59l7.78-7.78 2.81-2.81c.8-.78.8-2.07 0-2.86zM5.41 20L4 18.59l7.72-7.72 1.47 1.35L5.41 20z\"/>\n",
              "  </svg>\n",
              "      </button>\n",
              "      \n",
              "  <style>\n",
              "    .colab-df-container {\n",
              "      display:flex;\n",
              "      flex-wrap:wrap;\n",
              "      gap: 12px;\n",
              "    }\n",
              "\n",
              "    .colab-df-convert {\n",
              "      background-color: #E8F0FE;\n",
              "      border: none;\n",
              "      border-radius: 50%;\n",
              "      cursor: pointer;\n",
              "      display: none;\n",
              "      fill: #1967D2;\n",
              "      height: 32px;\n",
              "      padding: 0 0 0 0;\n",
              "      width: 32px;\n",
              "    }\n",
              "\n",
              "    .colab-df-convert:hover {\n",
              "      background-color: #E2EBFA;\n",
              "      box-shadow: 0px 1px 2px rgba(60, 64, 67, 0.3), 0px 1px 3px 1px rgba(60, 64, 67, 0.15);\n",
              "      fill: #174EA6;\n",
              "    }\n",
              "\n",
              "    [theme=dark] .colab-df-convert {\n",
              "      background-color: #3B4455;\n",
              "      fill: #D2E3FC;\n",
              "    }\n",
              "\n",
              "    [theme=dark] .colab-df-convert:hover {\n",
              "      background-color: #434B5C;\n",
              "      box-shadow: 0px 1px 3px 1px rgba(0, 0, 0, 0.15);\n",
              "      filter: drop-shadow(0px 1px 2px rgba(0, 0, 0, 0.3));\n",
              "      fill: #FFFFFF;\n",
              "    }\n",
              "  </style>\n",
              "\n",
              "      <script>\n",
              "        const buttonEl =\n",
              "          document.querySelector('#df-044f44cc-2ab6-48d8-ba45-942eeb3706ee button.colab-df-convert');\n",
              "        buttonEl.style.display =\n",
              "          google.colab.kernel.accessAllowed ? 'block' : 'none';\n",
              "\n",
              "        async function convertToInteractive(key) {\n",
              "          const element = document.querySelector('#df-044f44cc-2ab6-48d8-ba45-942eeb3706ee');\n",
              "          const dataTable =\n",
              "            await google.colab.kernel.invokeFunction('convertToInteractive',\n",
              "                                                     [key], {});\n",
              "          if (!dataTable) return;\n",
              "\n",
              "          const docLinkHtml = 'Like what you see? Visit the ' +\n",
              "            '<a target=\"_blank\" href=https://colab.research.google.com/notebooks/data_table.ipynb>data table notebook</a>'\n",
              "            + ' to learn more about interactive tables.';\n",
              "          element.innerHTML = '';\n",
              "          dataTable['output_type'] = 'display_data';\n",
              "          await google.colab.output.renderOutput(dataTable, element);\n",
              "          const docLink = document.createElement('div');\n",
              "          docLink.innerHTML = docLinkHtml;\n",
              "          element.appendChild(docLink);\n",
              "        }\n",
              "      </script>\n",
              "    </div>\n",
              "  </div>\n",
              "  "
            ]
          },
          "metadata": {},
          "execution_count": 3
        }
      ],
      "source": [
        "artist_url = \"https://github.com/MuseumofModernArt/collection/raw/master/Artists.csv\"\n",
        "artists =  pd.read_csv(artist_url)\n",
        "artists.head()"
      ]
    },
    {
      "cell_type": "code",
      "execution_count": null,
      "metadata": {
        "id": "KNHuwd7xZkCg",
        "outputId": "063523cf-6fa5-47aa-aeb9-d94efb66d4c1",
        "colab": {
          "base_uri": "https://localhost:8080/",
          "height": 664
        }
      },
      "outputs": [
        {
          "output_type": "execute_result",
          "data": {
            "text/plain": [
              "                                               Title  \\\n",
              "0  Ferdinandsbrücke Project, Vienna, Austria (Ele...   \n",
              "1  City of Music, National Superior Conservatory ...   \n",
              "2  Villa near Vienna Project, Outside Vienna, Aus...   \n",
              "3  The Manhattan Transcripts Project, New York, N...   \n",
              "4  Villa, project, outside Vienna, Austria, Exter...   \n",
              "\n",
              "                     Artist ConstituentID  \\\n",
              "0               Otto Wagner          6210   \n",
              "1  Christian de Portzamparc          7470   \n",
              "2                Emil Hoppe          7605   \n",
              "3           Bernard Tschumi          7056   \n",
              "4                Emil Hoppe          7605   \n",
              "\n",
              "                                   ArtistBio Nationality BeginDate EndDate  \\\n",
              "0                      (Austrian, 1841–1918)  (Austrian)    (1841)  (1918)   \n",
              "1                        (French, born 1944)    (French)    (1944)     (0)   \n",
              "2                      (Austrian, 1876–1957)  (Austrian)    (1876)  (1957)   \n",
              "3  (French and Swiss, born Switzerland 1944)          ()    (1944)     (0)   \n",
              "4                      (Austrian, 1876–1957)  (Austrian)    (1876)  (1957)   \n",
              "\n",
              "   Gender  Date                                             Medium  ...  \\\n",
              "0  (Male)  1896      Ink and cut-and-pasted painted pages on paper  ...   \n",
              "1  (Male)  1987                  Paint and colored pencil on print  ...   \n",
              "2  (Male)  1903  Graphite, pen, color pencil, ink, and gouache ...  ...   \n",
              "3  (Male)  1980  Photographic reproduction with colored synthet...  ...   \n",
              "4  (Male)  1903  Graphite, color pencil, ink, and gouache on tr...  ...   \n",
              "\n",
              "                                        ThumbnailURL Circumference (cm)  \\\n",
              "0  http://www.moma.org/media/W1siZiIsIjU5NDA1Il0s...                NaN   \n",
              "1  http://www.moma.org/media/W1siZiIsIjk3Il0sWyJw...                NaN   \n",
              "2  http://www.moma.org/media/W1siZiIsIjk4Il0sWyJw...                NaN   \n",
              "3  http://www.moma.org/media/W1siZiIsIjEyNCJdLFsi...                NaN   \n",
              "4  http://www.moma.org/media/W1siZiIsIjEyNiJdLFsi...                NaN   \n",
              "\n",
              "  Depth (cm) Diameter (cm) Height (cm) Length (cm) Weight (kg)  Width (cm)  \\\n",
              "0        NaN           NaN     48.6000         NaN         NaN    168.9000   \n",
              "1        NaN           NaN     40.6401         NaN         NaN     29.8451   \n",
              "2        NaN           NaN     34.3000         NaN         NaN     31.8000   \n",
              "3        NaN           NaN     50.8000         NaN         NaN     50.8000   \n",
              "4        NaN           NaN     38.4000         NaN         NaN     19.1000   \n",
              "\n",
              "  Seat Height (cm) Duration (sec.)  \n",
              "0              NaN             NaN  \n",
              "1              NaN             NaN  \n",
              "2              NaN             NaN  \n",
              "3              NaN             NaN  \n",
              "4              NaN             NaN  \n",
              "\n",
              "[5 rows x 29 columns]"
            ],
            "text/html": [
              "\n",
              "  <div id=\"df-7383817e-b1cc-4d49-a8e3-7533b717fad9\">\n",
              "    <div class=\"colab-df-container\">\n",
              "      <div>\n",
              "<style scoped>\n",
              "    .dataframe tbody tr th:only-of-type {\n",
              "        vertical-align: middle;\n",
              "    }\n",
              "\n",
              "    .dataframe tbody tr th {\n",
              "        vertical-align: top;\n",
              "    }\n",
              "\n",
              "    .dataframe thead th {\n",
              "        text-align: right;\n",
              "    }\n",
              "</style>\n",
              "<table border=\"1\" class=\"dataframe\">\n",
              "  <thead>\n",
              "    <tr style=\"text-align: right;\">\n",
              "      <th></th>\n",
              "      <th>Title</th>\n",
              "      <th>Artist</th>\n",
              "      <th>ConstituentID</th>\n",
              "      <th>ArtistBio</th>\n",
              "      <th>Nationality</th>\n",
              "      <th>BeginDate</th>\n",
              "      <th>EndDate</th>\n",
              "      <th>Gender</th>\n",
              "      <th>Date</th>\n",
              "      <th>Medium</th>\n",
              "      <th>...</th>\n",
              "      <th>ThumbnailURL</th>\n",
              "      <th>Circumference (cm)</th>\n",
              "      <th>Depth (cm)</th>\n",
              "      <th>Diameter (cm)</th>\n",
              "      <th>Height (cm)</th>\n",
              "      <th>Length (cm)</th>\n",
              "      <th>Weight (kg)</th>\n",
              "      <th>Width (cm)</th>\n",
              "      <th>Seat Height (cm)</th>\n",
              "      <th>Duration (sec.)</th>\n",
              "    </tr>\n",
              "  </thead>\n",
              "  <tbody>\n",
              "    <tr>\n",
              "      <th>0</th>\n",
              "      <td>Ferdinandsbrücke Project, Vienna, Austria (Ele...</td>\n",
              "      <td>Otto Wagner</td>\n",
              "      <td>6210</td>\n",
              "      <td>(Austrian, 1841–1918)</td>\n",
              "      <td>(Austrian)</td>\n",
              "      <td>(1841)</td>\n",
              "      <td>(1918)</td>\n",
              "      <td>(Male)</td>\n",
              "      <td>1896</td>\n",
              "      <td>Ink and cut-and-pasted painted pages on paper</td>\n",
              "      <td>...</td>\n",
              "      <td>http://www.moma.org/media/W1siZiIsIjU5NDA1Il0s...</td>\n",
              "      <td>NaN</td>\n",
              "      <td>NaN</td>\n",
              "      <td>NaN</td>\n",
              "      <td>48.6000</td>\n",
              "      <td>NaN</td>\n",
              "      <td>NaN</td>\n",
              "      <td>168.9000</td>\n",
              "      <td>NaN</td>\n",
              "      <td>NaN</td>\n",
              "    </tr>\n",
              "    <tr>\n",
              "      <th>1</th>\n",
              "      <td>City of Music, National Superior Conservatory ...</td>\n",
              "      <td>Christian de Portzamparc</td>\n",
              "      <td>7470</td>\n",
              "      <td>(French, born 1944)</td>\n",
              "      <td>(French)</td>\n",
              "      <td>(1944)</td>\n",
              "      <td>(0)</td>\n",
              "      <td>(Male)</td>\n",
              "      <td>1987</td>\n",
              "      <td>Paint and colored pencil on print</td>\n",
              "      <td>...</td>\n",
              "      <td>http://www.moma.org/media/W1siZiIsIjk3Il0sWyJw...</td>\n",
              "      <td>NaN</td>\n",
              "      <td>NaN</td>\n",
              "      <td>NaN</td>\n",
              "      <td>40.6401</td>\n",
              "      <td>NaN</td>\n",
              "      <td>NaN</td>\n",
              "      <td>29.8451</td>\n",
              "      <td>NaN</td>\n",
              "      <td>NaN</td>\n",
              "    </tr>\n",
              "    <tr>\n",
              "      <th>2</th>\n",
              "      <td>Villa near Vienna Project, Outside Vienna, Aus...</td>\n",
              "      <td>Emil Hoppe</td>\n",
              "      <td>7605</td>\n",
              "      <td>(Austrian, 1876–1957)</td>\n",
              "      <td>(Austrian)</td>\n",
              "      <td>(1876)</td>\n",
              "      <td>(1957)</td>\n",
              "      <td>(Male)</td>\n",
              "      <td>1903</td>\n",
              "      <td>Graphite, pen, color pencil, ink, and gouache ...</td>\n",
              "      <td>...</td>\n",
              "      <td>http://www.moma.org/media/W1siZiIsIjk4Il0sWyJw...</td>\n",
              "      <td>NaN</td>\n",
              "      <td>NaN</td>\n",
              "      <td>NaN</td>\n",
              "      <td>34.3000</td>\n",
              "      <td>NaN</td>\n",
              "      <td>NaN</td>\n",
              "      <td>31.8000</td>\n",
              "      <td>NaN</td>\n",
              "      <td>NaN</td>\n",
              "    </tr>\n",
              "    <tr>\n",
              "      <th>3</th>\n",
              "      <td>The Manhattan Transcripts Project, New York, N...</td>\n",
              "      <td>Bernard Tschumi</td>\n",
              "      <td>7056</td>\n",
              "      <td>(French and Swiss, born Switzerland 1944)</td>\n",
              "      <td>()</td>\n",
              "      <td>(1944)</td>\n",
              "      <td>(0)</td>\n",
              "      <td>(Male)</td>\n",
              "      <td>1980</td>\n",
              "      <td>Photographic reproduction with colored synthet...</td>\n",
              "      <td>...</td>\n",
              "      <td>http://www.moma.org/media/W1siZiIsIjEyNCJdLFsi...</td>\n",
              "      <td>NaN</td>\n",
              "      <td>NaN</td>\n",
              "      <td>NaN</td>\n",
              "      <td>50.8000</td>\n",
              "      <td>NaN</td>\n",
              "      <td>NaN</td>\n",
              "      <td>50.8000</td>\n",
              "      <td>NaN</td>\n",
              "      <td>NaN</td>\n",
              "    </tr>\n",
              "    <tr>\n",
              "      <th>4</th>\n",
              "      <td>Villa, project, outside Vienna, Austria, Exter...</td>\n",
              "      <td>Emil Hoppe</td>\n",
              "      <td>7605</td>\n",
              "      <td>(Austrian, 1876–1957)</td>\n",
              "      <td>(Austrian)</td>\n",
              "      <td>(1876)</td>\n",
              "      <td>(1957)</td>\n",
              "      <td>(Male)</td>\n",
              "      <td>1903</td>\n",
              "      <td>Graphite, color pencil, ink, and gouache on tr...</td>\n",
              "      <td>...</td>\n",
              "      <td>http://www.moma.org/media/W1siZiIsIjEyNiJdLFsi...</td>\n",
              "      <td>NaN</td>\n",
              "      <td>NaN</td>\n",
              "      <td>NaN</td>\n",
              "      <td>38.4000</td>\n",
              "      <td>NaN</td>\n",
              "      <td>NaN</td>\n",
              "      <td>19.1000</td>\n",
              "      <td>NaN</td>\n",
              "      <td>NaN</td>\n",
              "    </tr>\n",
              "  </tbody>\n",
              "</table>\n",
              "<p>5 rows × 29 columns</p>\n",
              "</div>\n",
              "      <button class=\"colab-df-convert\" onclick=\"convertToInteractive('df-7383817e-b1cc-4d49-a8e3-7533b717fad9')\"\n",
              "              title=\"Convert this dataframe to an interactive table.\"\n",
              "              style=\"display:none;\">\n",
              "        \n",
              "  <svg xmlns=\"http://www.w3.org/2000/svg\" height=\"24px\"viewBox=\"0 0 24 24\"\n",
              "       width=\"24px\">\n",
              "    <path d=\"M0 0h24v24H0V0z\" fill=\"none\"/>\n",
              "    <path d=\"M18.56 5.44l.94 2.06.94-2.06 2.06-.94-2.06-.94-.94-2.06-.94 2.06-2.06.94zm-11 1L8.5 8.5l.94-2.06 2.06-.94-2.06-.94L8.5 2.5l-.94 2.06-2.06.94zm10 10l.94 2.06.94-2.06 2.06-.94-2.06-.94-.94-2.06-.94 2.06-2.06.94z\"/><path d=\"M17.41 7.96l-1.37-1.37c-.4-.4-.92-.59-1.43-.59-.52 0-1.04.2-1.43.59L10.3 9.45l-7.72 7.72c-.78.78-.78 2.05 0 2.83L4 21.41c.39.39.9.59 1.41.59.51 0 1.02-.2 1.41-.59l7.78-7.78 2.81-2.81c.8-.78.8-2.07 0-2.86zM5.41 20L4 18.59l7.72-7.72 1.47 1.35L5.41 20z\"/>\n",
              "  </svg>\n",
              "      </button>\n",
              "      \n",
              "  <style>\n",
              "    .colab-df-container {\n",
              "      display:flex;\n",
              "      flex-wrap:wrap;\n",
              "      gap: 12px;\n",
              "    }\n",
              "\n",
              "    .colab-df-convert {\n",
              "      background-color: #E8F0FE;\n",
              "      border: none;\n",
              "      border-radius: 50%;\n",
              "      cursor: pointer;\n",
              "      display: none;\n",
              "      fill: #1967D2;\n",
              "      height: 32px;\n",
              "      padding: 0 0 0 0;\n",
              "      width: 32px;\n",
              "    }\n",
              "\n",
              "    .colab-df-convert:hover {\n",
              "      background-color: #E2EBFA;\n",
              "      box-shadow: 0px 1px 2px rgba(60, 64, 67, 0.3), 0px 1px 3px 1px rgba(60, 64, 67, 0.15);\n",
              "      fill: #174EA6;\n",
              "    }\n",
              "\n",
              "    [theme=dark] .colab-df-convert {\n",
              "      background-color: #3B4455;\n",
              "      fill: #D2E3FC;\n",
              "    }\n",
              "\n",
              "    [theme=dark] .colab-df-convert:hover {\n",
              "      background-color: #434B5C;\n",
              "      box-shadow: 0px 1px 3px 1px rgba(0, 0, 0, 0.15);\n",
              "      filter: drop-shadow(0px 1px 2px rgba(0, 0, 0, 0.3));\n",
              "      fill: #FFFFFF;\n",
              "    }\n",
              "  </style>\n",
              "\n",
              "      <script>\n",
              "        const buttonEl =\n",
              "          document.querySelector('#df-7383817e-b1cc-4d49-a8e3-7533b717fad9 button.colab-df-convert');\n",
              "        buttonEl.style.display =\n",
              "          google.colab.kernel.accessAllowed ? 'block' : 'none';\n",
              "\n",
              "        async function convertToInteractive(key) {\n",
              "          const element = document.querySelector('#df-7383817e-b1cc-4d49-a8e3-7533b717fad9');\n",
              "          const dataTable =\n",
              "            await google.colab.kernel.invokeFunction('convertToInteractive',\n",
              "                                                     [key], {});\n",
              "          if (!dataTable) return;\n",
              "\n",
              "          const docLinkHtml = 'Like what you see? Visit the ' +\n",
              "            '<a target=\"_blank\" href=https://colab.research.google.com/notebooks/data_table.ipynb>data table notebook</a>'\n",
              "            + ' to learn more about interactive tables.';\n",
              "          element.innerHTML = '';\n",
              "          dataTable['output_type'] = 'display_data';\n",
              "          await google.colab.output.renderOutput(dataTable, element);\n",
              "          const docLink = document.createElement('div');\n",
              "          docLink.innerHTML = docLinkHtml;\n",
              "          element.appendChild(docLink);\n",
              "        }\n",
              "      </script>\n",
              "    </div>\n",
              "  </div>\n",
              "  "
            ]
          },
          "metadata": {},
          "execution_count": 4
        }
      ],
      "source": [
        "artwork_url = \"https://github.com/MuseumofModernArt/collection/raw/master/Artworks.csv\"\n",
        "artwork = pd.read_csv(artwork_url) # Big file, be patient\n",
        "artwork.head()"
      ]
    },
    {
      "cell_type": "markdown",
      "metadata": {
        "id": "iwolvmoHZkCg"
      },
      "source": [
        "## `X` is an `Intention`\n",
        "\n",
        "<img src=\"https://github.com/Zeke-Woods/module2_intro_to_pandas/blob/main/img/dfply_X_intention_1.png?raw=1\" width = 800>\n",
        "\n",
        "Think of it as recording an expression for later evaluation"
      ]
    },
    {
      "cell_type": "code",
      "execution_count": null,
      "metadata": {
        "id": "vJSTz3VNZkCh",
        "outputId": "22171c88-efb2-41ad-e60e-627021e271e4",
        "colab": {
          "base_uri": "https://localhost:8080/"
        }
      },
      "outputs": [
        {
          "output_type": "execute_result",
          "data": {
            "text/plain": [
              "<dfply.base.Intention at 0x7fd71f9166d0>"
            ]
          },
          "metadata": {},
          "execution_count": 5
        }
      ],
      "source": [
        "expr = X.BeginDate.head()\n",
        "expr"
      ]
    },
    {
      "cell_type": "markdown",
      "metadata": {
        "id": "zcQviU1xZkCh"
      },
      "source": [
        "## Use `evaluate` to apply the expression\n",
        "\n",
        "We can apply an expression *later* using `evaluate` with a dataframe."
      ]
    },
    {
      "cell_type": "code",
      "execution_count": null,
      "metadata": {
        "id": "5BF0COumZkCi",
        "outputId": "b33d7f20-03c2-4cbd-abc0-a69efc434398",
        "colab": {
          "base_uri": "https://localhost:8080/"
        }
      },
      "outputs": [
        {
          "output_type": "execute_result",
          "data": {
            "text/plain": [
              "0    1930\n",
              "1    1936\n",
              "2    1941\n",
              "3    1946\n",
              "4    1941\n",
              "Name: BeginDate, dtype: int64"
            ]
          },
          "metadata": {},
          "execution_count": 6
        }
      ],
      "source": [
        "expr.evaluate(artists)"
      ]
    },
    {
      "cell_type": "markdown",
      "metadata": {
        "id": "ajeilkuTZkCi"
      },
      "source": [
        "## Intention expressions are reusable!"
      ]
    },
    {
      "cell_type": "code",
      "execution_count": null,
      "metadata": {
        "id": "fcH7PbDUZkCi",
        "outputId": "d589369c-230d-475d-b207-759273f4da78",
        "colab": {
          "base_uri": "https://localhost:8080/"
        }
      },
      "outputs": [
        {
          "output_type": "execute_result",
          "data": {
            "text/plain": [
              "0    (1841)\n",
              "1    (1944)\n",
              "2    (1876)\n",
              "3    (1944)\n",
              "4    (1876)\n",
              "Name: BeginDate, dtype: object"
            ]
          },
          "metadata": {},
          "execution_count": 7
        }
      ],
      "source": [
        "# Reusable!\n",
        "expr.evaluate(artwork)"
      ]
    },
    {
      "cell_type": "markdown",
      "metadata": {
        "id": "4eVnHaD-ZkCj"
      },
      "source": [
        "## <font color=\"red\"> Exercise 2.3.1 </font>\n",
        "    \n",
        "**Tasks:**\n",
        "\n",
        "1. Create and evaluate a column expression, saved as `my_expr`, that checks that the `Height` column is larger than 40. **Hint:** The space and `()` in the column name requires you to use `X['col name']` format.\n",
        "2. Evaluate that column expression to the `Artist` and `Artwork` data frame, that is evaluate `my_expr.evaluate(df)`.\n",
        "3. Use the expression object in filter, e.g. `filter(my_expr)` on the `Artwork` data set \n",
        "4. Now try to perform the filter with a pipe and no expression, e.g. `filter_by(artwork['Height cm' > 40)`.  Why does this still work?  When might we run into trouble?\n",
        "5. Write a paragraph that summarizes how this all works."
      ]
    },
    {
      "cell_type": "code",
      "execution_count": null,
      "metadata": {
        "id": "Hw4Nbm-hZkCj",
        "colab": {
          "base_uri": "https://localhost:8080/"
        },
        "outputId": "8c7adb34-f271-4407-c6c5-5f9cc45a1374"
      },
      "outputs": [
        {
          "output_type": "execute_result",
          "data": {
            "text/plain": [
              "<dfply.base.Intention at 0x7fd71c00b790>"
            ]
          },
          "metadata": {},
          "execution_count": 8
        }
      ],
      "source": [
        "# Code for Task 1\n",
        "my_expr = X['Height (cm)'] > 40\n",
        "my_expr"
      ]
    },
    {
      "cell_type": "code",
      "execution_count": null,
      "metadata": {
        "id": "OFSwPdK6ZkCk",
        "colab": {
          "base_uri": "https://localhost:8080/"
        },
        "outputId": "9b6083d9-f27a-40d2-f0ea-e9330ba8ccac"
      },
      "outputs": [
        {
          "output_type": "execute_result",
          "data": {
            "text/plain": [
              "0          True\n",
              "1          True\n",
              "2         False\n",
              "3          True\n",
              "4         False\n",
              "          ...  \n",
              "139932    False\n",
              "139933    False\n",
              "139934    False\n",
              "139935    False\n",
              "139936    False\n",
              "Name: Height (cm), Length: 139937, dtype: bool"
            ]
          },
          "metadata": {},
          "execution_count": 19
        }
      ],
      "source": [
        "# Code for Task 2\n",
        "my_expr.evaluate(artwork)"
      ]
    },
    {
      "cell_type": "code",
      "execution_count": null,
      "metadata": {
        "id": "xD671NSjZkCk",
        "colab": {
          "base_uri": "https://localhost:8080/",
          "height": 206
        },
        "outputId": "8e5d1c89-9eac-4284-99fc-25650ce5e5eb"
      },
      "outputs": [
        {
          "output_type": "execute_result",
          "data": {
            "text/plain": [
              "                                                Title  \\\n",
              "0   Ferdinandsbrücke Project, Vienna, Austria (Ele...   \n",
              "1   City of Music, National Superior Conservatory ...   \n",
              "3   The Manhattan Transcripts Project, New York, N...   \n",
              "30  Memorial to the Six Million Jewish Martyrs, pr...   \n",
              "31  The Manhattan Transcripts Project, New York, N...   \n",
              "\n",
              "                      Artist  Height (cm)  \n",
              "0                Otto Wagner      48.6000  \n",
              "1   Christian de Portzamparc      40.6401  \n",
              "3            Bernard Tschumi      50.8000  \n",
              "30             Louis I. Kahn     113.0000  \n",
              "31           Bernard Tschumi      50.8000  "
            ],
            "text/html": [
              "\n",
              "  <div id=\"df-e32388c4-b28e-4bf3-b490-be0361100e46\">\n",
              "    <div class=\"colab-df-container\">\n",
              "      <div>\n",
              "<style scoped>\n",
              "    .dataframe tbody tr th:only-of-type {\n",
              "        vertical-align: middle;\n",
              "    }\n",
              "\n",
              "    .dataframe tbody tr th {\n",
              "        vertical-align: top;\n",
              "    }\n",
              "\n",
              "    .dataframe thead th {\n",
              "        text-align: right;\n",
              "    }\n",
              "</style>\n",
              "<table border=\"1\" class=\"dataframe\">\n",
              "  <thead>\n",
              "    <tr style=\"text-align: right;\">\n",
              "      <th></th>\n",
              "      <th>Title</th>\n",
              "      <th>Artist</th>\n",
              "      <th>Height (cm)</th>\n",
              "    </tr>\n",
              "  </thead>\n",
              "  <tbody>\n",
              "    <tr>\n",
              "      <th>0</th>\n",
              "      <td>Ferdinandsbrücke Project, Vienna, Austria (Ele...</td>\n",
              "      <td>Otto Wagner</td>\n",
              "      <td>48.6000</td>\n",
              "    </tr>\n",
              "    <tr>\n",
              "      <th>1</th>\n",
              "      <td>City of Music, National Superior Conservatory ...</td>\n",
              "      <td>Christian de Portzamparc</td>\n",
              "      <td>40.6401</td>\n",
              "    </tr>\n",
              "    <tr>\n",
              "      <th>3</th>\n",
              "      <td>The Manhattan Transcripts Project, New York, N...</td>\n",
              "      <td>Bernard Tschumi</td>\n",
              "      <td>50.8000</td>\n",
              "    </tr>\n",
              "    <tr>\n",
              "      <th>30</th>\n",
              "      <td>Memorial to the Six Million Jewish Martyrs, pr...</td>\n",
              "      <td>Louis I. Kahn</td>\n",
              "      <td>113.0000</td>\n",
              "    </tr>\n",
              "    <tr>\n",
              "      <th>31</th>\n",
              "      <td>The Manhattan Transcripts Project, New York, N...</td>\n",
              "      <td>Bernard Tschumi</td>\n",
              "      <td>50.8000</td>\n",
              "    </tr>\n",
              "  </tbody>\n",
              "</table>\n",
              "</div>\n",
              "      <button class=\"colab-df-convert\" onclick=\"convertToInteractive('df-e32388c4-b28e-4bf3-b490-be0361100e46')\"\n",
              "              title=\"Convert this dataframe to an interactive table.\"\n",
              "              style=\"display:none;\">\n",
              "        \n",
              "  <svg xmlns=\"http://www.w3.org/2000/svg\" height=\"24px\"viewBox=\"0 0 24 24\"\n",
              "       width=\"24px\">\n",
              "    <path d=\"M0 0h24v24H0V0z\" fill=\"none\"/>\n",
              "    <path d=\"M18.56 5.44l.94 2.06.94-2.06 2.06-.94-2.06-.94-.94-2.06-.94 2.06-2.06.94zm-11 1L8.5 8.5l.94-2.06 2.06-.94-2.06-.94L8.5 2.5l-.94 2.06-2.06.94zm10 10l.94 2.06.94-2.06 2.06-.94-2.06-.94-.94-2.06-.94 2.06-2.06.94z\"/><path d=\"M17.41 7.96l-1.37-1.37c-.4-.4-.92-.59-1.43-.59-.52 0-1.04.2-1.43.59L10.3 9.45l-7.72 7.72c-.78.78-.78 2.05 0 2.83L4 21.41c.39.39.9.59 1.41.59.51 0 1.02-.2 1.41-.59l7.78-7.78 2.81-2.81c.8-.78.8-2.07 0-2.86zM5.41 20L4 18.59l7.72-7.72 1.47 1.35L5.41 20z\"/>\n",
              "  </svg>\n",
              "      </button>\n",
              "      \n",
              "  <style>\n",
              "    .colab-df-container {\n",
              "      display:flex;\n",
              "      flex-wrap:wrap;\n",
              "      gap: 12px;\n",
              "    }\n",
              "\n",
              "    .colab-df-convert {\n",
              "      background-color: #E8F0FE;\n",
              "      border: none;\n",
              "      border-radius: 50%;\n",
              "      cursor: pointer;\n",
              "      display: none;\n",
              "      fill: #1967D2;\n",
              "      height: 32px;\n",
              "      padding: 0 0 0 0;\n",
              "      width: 32px;\n",
              "    }\n",
              "\n",
              "    .colab-df-convert:hover {\n",
              "      background-color: #E2EBFA;\n",
              "      box-shadow: 0px 1px 2px rgba(60, 64, 67, 0.3), 0px 1px 3px 1px rgba(60, 64, 67, 0.15);\n",
              "      fill: #174EA6;\n",
              "    }\n",
              "\n",
              "    [theme=dark] .colab-df-convert {\n",
              "      background-color: #3B4455;\n",
              "      fill: #D2E3FC;\n",
              "    }\n",
              "\n",
              "    [theme=dark] .colab-df-convert:hover {\n",
              "      background-color: #434B5C;\n",
              "      box-shadow: 0px 1px 3px 1px rgba(0, 0, 0, 0.15);\n",
              "      filter: drop-shadow(0px 1px 2px rgba(0, 0, 0, 0.3));\n",
              "      fill: #FFFFFF;\n",
              "    }\n",
              "  </style>\n",
              "\n",
              "      <script>\n",
              "        const buttonEl =\n",
              "          document.querySelector('#df-e32388c4-b28e-4bf3-b490-be0361100e46 button.colab-df-convert');\n",
              "        buttonEl.style.display =\n",
              "          google.colab.kernel.accessAllowed ? 'block' : 'none';\n",
              "\n",
              "        async function convertToInteractive(key) {\n",
              "          const element = document.querySelector('#df-e32388c4-b28e-4bf3-b490-be0361100e46');\n",
              "          const dataTable =\n",
              "            await google.colab.kernel.invokeFunction('convertToInteractive',\n",
              "                                                     [key], {});\n",
              "          if (!dataTable) return;\n",
              "\n",
              "          const docLinkHtml = 'Like what you see? Visit the ' +\n",
              "            '<a target=\"_blank\" href=https://colab.research.google.com/notebooks/data_table.ipynb>data table notebook</a>'\n",
              "            + ' to learn more about interactive tables.';\n",
              "          element.innerHTML = '';\n",
              "          dataTable['output_type'] = 'display_data';\n",
              "          await google.colab.output.renderOutput(dataTable, element);\n",
              "          const docLink = document.createElement('div');\n",
              "          docLink.innerHTML = docLinkHtml;\n",
              "          element.appendChild(docLink);\n",
              "        }\n",
              "      </script>\n",
              "    </div>\n",
              "  </div>\n",
              "  "
            ]
          },
          "metadata": {},
          "execution_count": 15
        }
      ],
      "source": [
        "# Code for Task 3\n",
        "(artwork \n",
        " >>filter_by(my_expr.evaluate(artwork))\n",
        " >>select(X.Title, X.Artist, X[\"Height (cm)\"])\n",
        " >>head()\n",
        " )\n",
        "\n"
      ]
    },
    {
      "cell_type": "code",
      "source": [
        "(artwork \n",
        " >>filter_by(artwork['Height (cm)'] > 40)\n",
        " >>select(X.Title, X.Artist, X[\"Height (cm)\"])\n",
        " >>head()\n",
        " )\n"
      ],
      "metadata": {
        "colab": {
          "base_uri": "https://localhost:8080/",
          "height": 206
        },
        "id": "0D2m5mQS1HIW",
        "outputId": "f35c25ed-90bc-4630-9e94-704bc8afce4d"
      },
      "execution_count": null,
      "outputs": [
        {
          "output_type": "execute_result",
          "data": {
            "text/plain": [
              "                                                Title  \\\n",
              "0   Ferdinandsbrücke Project, Vienna, Austria (Ele...   \n",
              "1   City of Music, National Superior Conservatory ...   \n",
              "3   The Manhattan Transcripts Project, New York, N...   \n",
              "30  Memorial to the Six Million Jewish Martyrs, pr...   \n",
              "31  The Manhattan Transcripts Project, New York, N...   \n",
              "\n",
              "                      Artist  Height (cm)  \n",
              "0                Otto Wagner      48.6000  \n",
              "1   Christian de Portzamparc      40.6401  \n",
              "3            Bernard Tschumi      50.8000  \n",
              "30             Louis I. Kahn     113.0000  \n",
              "31           Bernard Tschumi      50.8000  "
            ],
            "text/html": [
              "\n",
              "  <div id=\"df-78b4fef1-d80f-4962-95ca-8fbe23899022\">\n",
              "    <div class=\"colab-df-container\">\n",
              "      <div>\n",
              "<style scoped>\n",
              "    .dataframe tbody tr th:only-of-type {\n",
              "        vertical-align: middle;\n",
              "    }\n",
              "\n",
              "    .dataframe tbody tr th {\n",
              "        vertical-align: top;\n",
              "    }\n",
              "\n",
              "    .dataframe thead th {\n",
              "        text-align: right;\n",
              "    }\n",
              "</style>\n",
              "<table border=\"1\" class=\"dataframe\">\n",
              "  <thead>\n",
              "    <tr style=\"text-align: right;\">\n",
              "      <th></th>\n",
              "      <th>Title</th>\n",
              "      <th>Artist</th>\n",
              "      <th>Height (cm)</th>\n",
              "    </tr>\n",
              "  </thead>\n",
              "  <tbody>\n",
              "    <tr>\n",
              "      <th>0</th>\n",
              "      <td>Ferdinandsbrücke Project, Vienna, Austria (Ele...</td>\n",
              "      <td>Otto Wagner</td>\n",
              "      <td>48.6000</td>\n",
              "    </tr>\n",
              "    <tr>\n",
              "      <th>1</th>\n",
              "      <td>City of Music, National Superior Conservatory ...</td>\n",
              "      <td>Christian de Portzamparc</td>\n",
              "      <td>40.6401</td>\n",
              "    </tr>\n",
              "    <tr>\n",
              "      <th>3</th>\n",
              "      <td>The Manhattan Transcripts Project, New York, N...</td>\n",
              "      <td>Bernard Tschumi</td>\n",
              "      <td>50.8000</td>\n",
              "    </tr>\n",
              "    <tr>\n",
              "      <th>30</th>\n",
              "      <td>Memorial to the Six Million Jewish Martyrs, pr...</td>\n",
              "      <td>Louis I. Kahn</td>\n",
              "      <td>113.0000</td>\n",
              "    </tr>\n",
              "    <tr>\n",
              "      <th>31</th>\n",
              "      <td>The Manhattan Transcripts Project, New York, N...</td>\n",
              "      <td>Bernard Tschumi</td>\n",
              "      <td>50.8000</td>\n",
              "    </tr>\n",
              "  </tbody>\n",
              "</table>\n",
              "</div>\n",
              "      <button class=\"colab-df-convert\" onclick=\"convertToInteractive('df-78b4fef1-d80f-4962-95ca-8fbe23899022')\"\n",
              "              title=\"Convert this dataframe to an interactive table.\"\n",
              "              style=\"display:none;\">\n",
              "        \n",
              "  <svg xmlns=\"http://www.w3.org/2000/svg\" height=\"24px\"viewBox=\"0 0 24 24\"\n",
              "       width=\"24px\">\n",
              "    <path d=\"M0 0h24v24H0V0z\" fill=\"none\"/>\n",
              "    <path d=\"M18.56 5.44l.94 2.06.94-2.06 2.06-.94-2.06-.94-.94-2.06-.94 2.06-2.06.94zm-11 1L8.5 8.5l.94-2.06 2.06-.94-2.06-.94L8.5 2.5l-.94 2.06-2.06.94zm10 10l.94 2.06.94-2.06 2.06-.94-2.06-.94-.94-2.06-.94 2.06-2.06.94z\"/><path d=\"M17.41 7.96l-1.37-1.37c-.4-.4-.92-.59-1.43-.59-.52 0-1.04.2-1.43.59L10.3 9.45l-7.72 7.72c-.78.78-.78 2.05 0 2.83L4 21.41c.39.39.9.59 1.41.59.51 0 1.02-.2 1.41-.59l7.78-7.78 2.81-2.81c.8-.78.8-2.07 0-2.86zM5.41 20L4 18.59l7.72-7.72 1.47 1.35L5.41 20z\"/>\n",
              "  </svg>\n",
              "      </button>\n",
              "      \n",
              "  <style>\n",
              "    .colab-df-container {\n",
              "      display:flex;\n",
              "      flex-wrap:wrap;\n",
              "      gap: 12px;\n",
              "    }\n",
              "\n",
              "    .colab-df-convert {\n",
              "      background-color: #E8F0FE;\n",
              "      border: none;\n",
              "      border-radius: 50%;\n",
              "      cursor: pointer;\n",
              "      display: none;\n",
              "      fill: #1967D2;\n",
              "      height: 32px;\n",
              "      padding: 0 0 0 0;\n",
              "      width: 32px;\n",
              "    }\n",
              "\n",
              "    .colab-df-convert:hover {\n",
              "      background-color: #E2EBFA;\n",
              "      box-shadow: 0px 1px 2px rgba(60, 64, 67, 0.3), 0px 1px 3px 1px rgba(60, 64, 67, 0.15);\n",
              "      fill: #174EA6;\n",
              "    }\n",
              "\n",
              "    [theme=dark] .colab-df-convert {\n",
              "      background-color: #3B4455;\n",
              "      fill: #D2E3FC;\n",
              "    }\n",
              "\n",
              "    [theme=dark] .colab-df-convert:hover {\n",
              "      background-color: #434B5C;\n",
              "      box-shadow: 0px 1px 3px 1px rgba(0, 0, 0, 0.15);\n",
              "      filter: drop-shadow(0px 1px 2px rgba(0, 0, 0, 0.3));\n",
              "      fill: #FFFFFF;\n",
              "    }\n",
              "  </style>\n",
              "\n",
              "      <script>\n",
              "        const buttonEl =\n",
              "          document.querySelector('#df-78b4fef1-d80f-4962-95ca-8fbe23899022 button.colab-df-convert');\n",
              "        buttonEl.style.display =\n",
              "          google.colab.kernel.accessAllowed ? 'block' : 'none';\n",
              "\n",
              "        async function convertToInteractive(key) {\n",
              "          const element = document.querySelector('#df-78b4fef1-d80f-4962-95ca-8fbe23899022');\n",
              "          const dataTable =\n",
              "            await google.colab.kernel.invokeFunction('convertToInteractive',\n",
              "                                                     [key], {});\n",
              "          if (!dataTable) return;\n",
              "\n",
              "          const docLinkHtml = 'Like what you see? Visit the ' +\n",
              "            '<a target=\"_blank\" href=https://colab.research.google.com/notebooks/data_table.ipynb>data table notebook</a>'\n",
              "            + ' to learn more about interactive tables.';\n",
              "          element.innerHTML = '';\n",
              "          dataTable['output_type'] = 'display_data';\n",
              "          await google.colab.output.renderOutput(dataTable, element);\n",
              "          const docLink = document.createElement('div');\n",
              "          docLink.innerHTML = docLinkHtml;\n",
              "          element.appendChild(docLink);\n",
              "        }\n",
              "      </script>\n",
              "    </div>\n",
              "  </div>\n",
              "  "
            ]
          },
          "metadata": {},
          "execution_count": 12
        }
      ]
    },
    {
      "cell_type": "markdown",
      "source": [
        "When we use the filter, its looking for trues to include and falses to exclude. So because our function just returns a bunch of trues and falses and the second expression returns the same trues and falses they will work the same for this\n"
      ],
      "metadata": {
        "id": "fWvSEbCC1zpW"
      }
    },
    {
      "cell_type": "markdown",
      "metadata": {
        "id": "6K48t3MFZkCk"
      },
      "source": [
        "> "
      ]
    },
    {
      "cell_type": "markdown",
      "metadata": {
        "id": "PSc3Thq1ZkCk"
      },
      "source": [
        "## Not just for data frames ... works for any* expression"
      ]
    },
    {
      "cell_type": "code",
      "execution_count": null,
      "metadata": {
        "id": "NxSQfe5yZkCk"
      },
      "outputs": [],
      "source": [
        "double, line = 2*X, 3*X + 5"
      ]
    },
    {
      "cell_type": "code",
      "execution_count": null,
      "metadata": {
        "id": "MzZViS2XZkCl",
        "outputId": "d9f4c507-c4bf-404e-e1b0-9b98c7baa9e1"
      },
      "outputs": [
        {
          "data": {
            "text/plain": [
              "(6, 23)"
            ]
          },
          "execution_count": 11,
          "metadata": {},
          "output_type": "execute_result"
        }
      ],
      "source": [
        "double.evaluate(3), line.evaluate(6)"
      ]
    },
    {
      "cell_type": "markdown",
      "metadata": {
        "id": "YaOZoWtCZkCl"
      },
      "source": [
        "## We can make functions lazy too!\n",
        "\n",
        "Decorate a function with `make_symbolic` to allow lazy evaluation of `Intention` objects"
      ]
    },
    {
      "cell_type": "code",
      "execution_count": null,
      "metadata": {
        "id": "zD5VVOuzZkCl"
      },
      "outputs": [],
      "source": [
        "from math import log\n",
        "log = make_symbolic(log)"
      ]
    },
    {
      "cell_type": "code",
      "execution_count": null,
      "metadata": {
        "id": "BhdGTF6bZkCl",
        "outputId": "0a4d750c-ac88-44db-ec81-e100c818448c",
        "colab": {
          "base_uri": "https://localhost:8080/"
        }
      },
      "outputs": [
        {
          "output_type": "execute_result",
          "data": {
            "text/plain": [
              "3.0"
            ]
          },
          "metadata": {},
          "execution_count": 28
        }
      ],
      "source": [
        "log(8, 2) # Works as expected with numbers"
      ]
    },
    {
      "cell_type": "markdown",
      "metadata": {
        "id": "x2_4orboZkCl"
      },
      "source": [
        "## Passing in `X` now makes a `log` expression"
      ]
    },
    {
      "cell_type": "code",
      "execution_count": null,
      "metadata": {
        "id": "4G4xSA7qZkCl",
        "outputId": "c548eb94-e300-475c-ad46-778bd0288806",
        "colab": {
          "base_uri": "https://localhost:8080/"
        }
      },
      "outputs": [
        {
          "output_type": "execute_result",
          "data": {
            "text/plain": [
              "<dfply.base.Intention at 0x7f2297e90790>"
            ]
          },
          "metadata": {},
          "execution_count": 29
        }
      ],
      "source": [
        "expr = log(X, 2) # Passing in X makes it lazy/symbolic\n",
        "expr"
      ]
    },
    {
      "cell_type": "code",
      "execution_count": null,
      "metadata": {
        "scrolled": true,
        "id": "9uvZUHbkZkCm",
        "outputId": "c9ebf800-441d-4810-8c8b-5a04c01d81bf"
      },
      "outputs": [
        {
          "data": {
            "text/plain": [
              "4.0"
            ]
          },
          "execution_count": 15,
          "metadata": {},
          "output_type": "execute_result"
        }
      ],
      "source": [
        "expr.evaluate(16) # Evaluate later"
      ]
    }
  ],
  "metadata": {
    "celltoolbar": "Slideshow",
    "kernelspec": {
      "display_name": "Python 3 (ipykernel)",
      "language": "python",
      "name": "python3"
    },
    "language_info": {
      "codemirror_mode": {
        "name": "ipython",
        "version": 3
      },
      "file_extension": ".py",
      "mimetype": "text/x-python",
      "name": "python",
      "nbconvert_exporter": "python",
      "pygments_lexer": "ipython3",
      "version": "3.9.12"
    },
    "varInspector": {
      "cols": {
        "lenName": 16,
        "lenType": 16,
        "lenVar": 40
      },
      "kernels_config": {
        "python": {
          "delete_cmd_postfix": "",
          "delete_cmd_prefix": "del ",
          "library": "var_list.py",
          "varRefreshCmd": "print(var_dic_list())"
        },
        "r": {
          "delete_cmd_postfix": ") ",
          "delete_cmd_prefix": "rm(",
          "library": "var_list.r",
          "varRefreshCmd": "cat(var_dic_list()) "
        }
      },
      "types_to_exclude": [
        "module",
        "function",
        "builtin_function_or_method",
        "instance",
        "_Feature"
      ],
      "window_display": false
    },
    "colab": {
      "provenance": [],
      "include_colab_link": true
    }
  },
  "nbformat": 4,
  "nbformat_minor": 0
}
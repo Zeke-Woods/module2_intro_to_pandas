{
  "cells": [
    {
      "cell_type": "markdown",
      "metadata": {
        "id": "view-in-github",
        "colab_type": "text"
      },
      "source": [
        "<a href=\"https://colab.research.google.com/github/Zeke-Woods/module2_intro_to_pandas/blob/main/2_4_pandas_dtypes.ipynb\" target=\"_parent\"><img src=\"https://colab.research.google.com/assets/colab-badge.svg\" alt=\"Open In Colab\"/></a>"
      ]
    },
    {
      "cell_type": "markdown",
      "metadata": {
        "id": "AlTPAB9GbncM"
      },
      "source": [
        "# `pandas dtypes` \n",
        "\n",
        "In [Section 1.1](./1_1_introduction_to_pandas.ipynb), we took our first look at the `pandas.DataFrame`.  In this section, we will take a closer look at `pandas` column types."
      ]
    },
    {
      "cell_type": "code",
      "source": [
        "# Be sure you installed dfply\n",
        "!pip install dfply"
      ],
      "metadata": {
        "id": "rKZPi0HFbqyX",
        "colab": {
          "base_uri": "https://localhost:8080/"
        },
        "outputId": "603e2b65-b524-421a-82ee-27af1114c57e"
      },
      "execution_count": null,
      "outputs": [
        {
          "output_type": "stream",
          "name": "stdout",
          "text": [
            "Looking in indexes: https://pypi.org/simple, https://us-python.pkg.dev/colab-wheels/public/simple/\n",
            "Requirement already satisfied: dfply in /usr/local/lib/python3.7/dist-packages (0.3.3)\n",
            "Requirement already satisfied: pandas in /usr/local/lib/python3.7/dist-packages (from dfply) (1.3.5)\n",
            "Requirement already satisfied: numpy in /usr/local/lib/python3.7/dist-packages (from dfply) (1.21.6)\n",
            "Requirement already satisfied: pytz>=2017.3 in /usr/local/lib/python3.7/dist-packages (from pandas->dfply) (2022.2.1)\n",
            "Requirement already satisfied: python-dateutil>=2.7.3 in /usr/local/lib/python3.7/dist-packages (from pandas->dfply) (2.8.2)\n",
            "Requirement already satisfied: six>=1.5 in /usr/local/lib/python3.7/dist-packages (from python-dateutil>=2.7.3->pandas->dfply) (1.15.0)\n"
          ]
        }
      ]
    },
    {
      "cell_type": "code",
      "execution_count": null,
      "metadata": {
        "id": "sxT9ImgpbncN"
      },
      "outputs": [],
      "source": [
        "import pandas as pd\n",
        "from dfply import *"
      ]
    },
    {
      "cell_type": "markdown",
      "metadata": {
        "id": "0fMdrkqPbncP"
      },
      "source": [
        "## Hiding stack traceback\n",
        "\n",
        "We hide the exception traceback for didactic reasons (code source: [see this post](https://stackoverflow.com/questions/46222753/how-do-i-suppress-tracebacks-in-jupyter)).  Don't run this cell if you want to see a full traceback."
      ]
    },
    {
      "cell_type": "code",
      "execution_count": null,
      "metadata": {
        "id": "5jUYBPT5bncP"
      },
      "outputs": [],
      "source": [
        "import sys\n",
        "ipython = get_ipython()\n",
        "\n",
        "def hide_traceback(exc_tuple=None, filename=None, tb_offset=None,\n",
        "                   exception_only=False, running_compiled_code=False):\n",
        "    etype, value, tb = sys.exc_info()\n",
        "    return ipython._showtraceback(etype, value, ipython.InteractiveTB.get_exception_only(etype, value))\n",
        "\n",
        "ipython.showtraceback = hide_traceback"
      ]
    },
    {
      "cell_type": "markdown",
      "metadata": {
        "id": "rsUm0XXgbncP"
      },
      "source": [
        "## Outline\n",
        "\n",
        "* Three more `dtypes`\n",
        "    * `datetime`\n",
        "    * `Int64`\n",
        "    * `category`\n",
        "* Setting the `dtypes` at read time."
      ]
    },
    {
      "cell_type": "markdown",
      "metadata": {
        "id": "gJZ8Ck49bncQ"
      },
      "source": [
        "## Integers with missing values\n",
        "\n",
        "* Older `pandas` $\\rightarrow$ no missing `int`\n",
        "    * Use `float` instead\n",
        "* Latest version $\\rightarrow$ `Int` classes\n",
        "    * Notice the capital `I`"
      ]
    },
    {
      "cell_type": "markdown",
      "metadata": {
        "id": "bTMofIXJbncQ"
      },
      "source": [
        "## Example - Artist `BeginDate` and `EndDate`"
      ]
    },
    {
      "cell_type": "code",
      "execution_count": null,
      "metadata": {
        "scrolled": true,
        "id": "xV6QbvlVbncR",
        "outputId": "df48d207-b023-4051-e2fa-29d08a616549",
        "colab": {
          "base_uri": "https://localhost:8080/",
          "height": 206
        }
      },
      "outputs": [
        {
          "output_type": "execute_result",
          "data": {
            "text/plain": [
              "   ConstituentID      DisplayName            ArtistBio Nationality Gender  \\\n",
              "0              1   Robert Arneson  American, 1930–1992    American   Male   \n",
              "1              2   Doroteo Arnaiz   Spanish, born 1936     Spanish   Male   \n",
              "2              3      Bill Arnold  American, born 1941    American   Male   \n",
              "3              4  Charles Arnoldi  American, born 1946    American   Male   \n",
              "4              5      Per Arnoldi    Danish, born 1941      Danish   Male   \n",
              "\n",
              "   BeginDate  EndDate  Wiki QID         ULAN  \n",
              "0       1930     1992       NaN          NaN  \n",
              "1       1936        0       NaN          NaN  \n",
              "2       1941        0       NaN          NaN  \n",
              "3       1946        0  Q1063584  500027998.0  \n",
              "4       1941        0       NaN          NaN  "
            ],
            "text/html": [
              "\n",
              "  <div id=\"df-83cdc402-b375-49be-8979-76946d4ca1d6\">\n",
              "    <div class=\"colab-df-container\">\n",
              "      <div>\n",
              "<style scoped>\n",
              "    .dataframe tbody tr th:only-of-type {\n",
              "        vertical-align: middle;\n",
              "    }\n",
              "\n",
              "    .dataframe tbody tr th {\n",
              "        vertical-align: top;\n",
              "    }\n",
              "\n",
              "    .dataframe thead th {\n",
              "        text-align: right;\n",
              "    }\n",
              "</style>\n",
              "<table border=\"1\" class=\"dataframe\">\n",
              "  <thead>\n",
              "    <tr style=\"text-align: right;\">\n",
              "      <th></th>\n",
              "      <th>ConstituentID</th>\n",
              "      <th>DisplayName</th>\n",
              "      <th>ArtistBio</th>\n",
              "      <th>Nationality</th>\n",
              "      <th>Gender</th>\n",
              "      <th>BeginDate</th>\n",
              "      <th>EndDate</th>\n",
              "      <th>Wiki QID</th>\n",
              "      <th>ULAN</th>\n",
              "    </tr>\n",
              "  </thead>\n",
              "  <tbody>\n",
              "    <tr>\n",
              "      <th>0</th>\n",
              "      <td>1</td>\n",
              "      <td>Robert Arneson</td>\n",
              "      <td>American, 1930–1992</td>\n",
              "      <td>American</td>\n",
              "      <td>Male</td>\n",
              "      <td>1930</td>\n",
              "      <td>1992</td>\n",
              "      <td>NaN</td>\n",
              "      <td>NaN</td>\n",
              "    </tr>\n",
              "    <tr>\n",
              "      <th>1</th>\n",
              "      <td>2</td>\n",
              "      <td>Doroteo Arnaiz</td>\n",
              "      <td>Spanish, born 1936</td>\n",
              "      <td>Spanish</td>\n",
              "      <td>Male</td>\n",
              "      <td>1936</td>\n",
              "      <td>0</td>\n",
              "      <td>NaN</td>\n",
              "      <td>NaN</td>\n",
              "    </tr>\n",
              "    <tr>\n",
              "      <th>2</th>\n",
              "      <td>3</td>\n",
              "      <td>Bill Arnold</td>\n",
              "      <td>American, born 1941</td>\n",
              "      <td>American</td>\n",
              "      <td>Male</td>\n",
              "      <td>1941</td>\n",
              "      <td>0</td>\n",
              "      <td>NaN</td>\n",
              "      <td>NaN</td>\n",
              "    </tr>\n",
              "    <tr>\n",
              "      <th>3</th>\n",
              "      <td>4</td>\n",
              "      <td>Charles Arnoldi</td>\n",
              "      <td>American, born 1946</td>\n",
              "      <td>American</td>\n",
              "      <td>Male</td>\n",
              "      <td>1946</td>\n",
              "      <td>0</td>\n",
              "      <td>Q1063584</td>\n",
              "      <td>500027998.0</td>\n",
              "    </tr>\n",
              "    <tr>\n",
              "      <th>4</th>\n",
              "      <td>5</td>\n",
              "      <td>Per Arnoldi</td>\n",
              "      <td>Danish, born 1941</td>\n",
              "      <td>Danish</td>\n",
              "      <td>Male</td>\n",
              "      <td>1941</td>\n",
              "      <td>0</td>\n",
              "      <td>NaN</td>\n",
              "      <td>NaN</td>\n",
              "    </tr>\n",
              "  </tbody>\n",
              "</table>\n",
              "</div>\n",
              "      <button class=\"colab-df-convert\" onclick=\"convertToInteractive('df-83cdc402-b375-49be-8979-76946d4ca1d6')\"\n",
              "              title=\"Convert this dataframe to an interactive table.\"\n",
              "              style=\"display:none;\">\n",
              "        \n",
              "  <svg xmlns=\"http://www.w3.org/2000/svg\" height=\"24px\"viewBox=\"0 0 24 24\"\n",
              "       width=\"24px\">\n",
              "    <path d=\"M0 0h24v24H0V0z\" fill=\"none\"/>\n",
              "    <path d=\"M18.56 5.44l.94 2.06.94-2.06 2.06-.94-2.06-.94-.94-2.06-.94 2.06-2.06.94zm-11 1L8.5 8.5l.94-2.06 2.06-.94-2.06-.94L8.5 2.5l-.94 2.06-2.06.94zm10 10l.94 2.06.94-2.06 2.06-.94-2.06-.94-.94-2.06-.94 2.06-2.06.94z\"/><path d=\"M17.41 7.96l-1.37-1.37c-.4-.4-.92-.59-1.43-.59-.52 0-1.04.2-1.43.59L10.3 9.45l-7.72 7.72c-.78.78-.78 2.05 0 2.83L4 21.41c.39.39.9.59 1.41.59.51 0 1.02-.2 1.41-.59l7.78-7.78 2.81-2.81c.8-.78.8-2.07 0-2.86zM5.41 20L4 18.59l7.72-7.72 1.47 1.35L5.41 20z\"/>\n",
              "  </svg>\n",
              "      </button>\n",
              "      \n",
              "  <style>\n",
              "    .colab-df-container {\n",
              "      display:flex;\n",
              "      flex-wrap:wrap;\n",
              "      gap: 12px;\n",
              "    }\n",
              "\n",
              "    .colab-df-convert {\n",
              "      background-color: #E8F0FE;\n",
              "      border: none;\n",
              "      border-radius: 50%;\n",
              "      cursor: pointer;\n",
              "      display: none;\n",
              "      fill: #1967D2;\n",
              "      height: 32px;\n",
              "      padding: 0 0 0 0;\n",
              "      width: 32px;\n",
              "    }\n",
              "\n",
              "    .colab-df-convert:hover {\n",
              "      background-color: #E2EBFA;\n",
              "      box-shadow: 0px 1px 2px rgba(60, 64, 67, 0.3), 0px 1px 3px 1px rgba(60, 64, 67, 0.15);\n",
              "      fill: #174EA6;\n",
              "    }\n",
              "\n",
              "    [theme=dark] .colab-df-convert {\n",
              "      background-color: #3B4455;\n",
              "      fill: #D2E3FC;\n",
              "    }\n",
              "\n",
              "    [theme=dark] .colab-df-convert:hover {\n",
              "      background-color: #434B5C;\n",
              "      box-shadow: 0px 1px 3px 1px rgba(0, 0, 0, 0.15);\n",
              "      filter: drop-shadow(0px 1px 2px rgba(0, 0, 0, 0.3));\n",
              "      fill: #FFFFFF;\n",
              "    }\n",
              "  </style>\n",
              "\n",
              "      <script>\n",
              "        const buttonEl =\n",
              "          document.querySelector('#df-83cdc402-b375-49be-8979-76946d4ca1d6 button.colab-df-convert');\n",
              "        buttonEl.style.display =\n",
              "          google.colab.kernel.accessAllowed ? 'block' : 'none';\n",
              "\n",
              "        async function convertToInteractive(key) {\n",
              "          const element = document.querySelector('#df-83cdc402-b375-49be-8979-76946d4ca1d6');\n",
              "          const dataTable =\n",
              "            await google.colab.kernel.invokeFunction('convertToInteractive',\n",
              "                                                     [key], {});\n",
              "          if (!dataTable) return;\n",
              "\n",
              "          const docLinkHtml = 'Like what you see? Visit the ' +\n",
              "            '<a target=\"_blank\" href=https://colab.research.google.com/notebooks/data_table.ipynb>data table notebook</a>'\n",
              "            + ' to learn more about interactive tables.';\n",
              "          element.innerHTML = '';\n",
              "          dataTable['output_type'] = 'display_data';\n",
              "          await google.colab.output.renderOutput(dataTable, element);\n",
              "          const docLink = document.createElement('div');\n",
              "          docLink.innerHTML = docLinkHtml;\n",
              "          element.appendChild(docLink);\n",
              "        }\n",
              "      </script>\n",
              "    </div>\n",
              "  </div>\n",
              "  "
            ]
          },
          "metadata": {},
          "execution_count": 84
        }
      ],
      "source": [
        "artist = pd.read_csv('https://github.com/MuseumofModernArt/collection/raw/master/Artists.csv')\n",
        "artist.head()"
      ]
    },
    {
      "cell_type": "markdown",
      "metadata": {
        "id": "3MNtAa2EbncS"
      },
      "source": [
        "## There are lots of `0`s in the `BeginDate` \n",
        "\n",
        "Do we really think the Museam of **Modern** Art has artists from 0AD?"
      ]
    },
    {
      "cell_type": "code",
      "execution_count": null,
      "metadata": {
        "id": "2TLp8eQzbncS",
        "outputId": "7fd4414a-df72-4480-8ad7-3f8fe90f5c81",
        "colab": {
          "base_uri": "https://localhost:8080/",
          "height": 282
        }
      },
      "outputs": [
        {
          "output_type": "execute_result",
          "data": {
            "text/plain": [
              "<matplotlib.axes._subplots.AxesSubplot at 0x7f220af2b510>"
            ]
          },
          "metadata": {},
          "execution_count": 85
        },
        {
          "output_type": "display_data",
          "data": {
            "text/plain": [
              "<Figure size 432x288 with 1 Axes>"
            ],
            "image/png": "[encoded data removed]"
          },
          "metadata": {
            "needs_background": "light"
          }
        }
      ],
      "source": [
        "import matplotlib.pylab as plt\n",
        "%matplotlib inline\n",
        "artist.BeginDate.hist(bins=50)"
      ]
    },
    {
      "cell_type": "markdown",
      "metadata": {
        "id": "R5F2TSrBbncS"
      },
      "source": [
        "## Same problem with `EndDate`, but even more so"
      ]
    },
    {
      "cell_type": "code",
      "execution_count": null,
      "metadata": {
        "id": "zPuwuA-tbncT",
        "outputId": "64be7627-001b-4ed0-af79-db3b67f3936f",
        "colab": {
          "base_uri": "https://localhost:8080/",
          "height": 282
        }
      },
      "outputs": [
        {
          "output_type": "execute_result",
          "data": {
            "text/plain": [
              "<matplotlib.axes._subplots.AxesSubplot at 0x7f220b0b9f50>"
            ]
          },
          "metadata": {},
          "execution_count": 86
        },
        {
          "output_type": "display_data",
          "data": {
            "text/plain": [
              "<Figure size 432x288 with 1 Axes>"
            ],
            "image/png": "[encoded data removed]"
          },
          "metadata": {
            "needs_background": "light"
          }
        }
      ],
      "source": [
        "artist.EndDate.hist(bins=50)"
      ]
    },
    {
      "cell_type": "markdown",
      "metadata": {
        "id": "fc7X-FS-bncT"
      },
      "source": [
        "## Using `apply` to remove the `0`s"
      ]
    },
    {
      "cell_type": "code",
      "execution_count": null,
      "metadata": {
        "scrolled": true,
        "id": "pcQqwTfsbncT",
        "outputId": "1aef1ab2-42a9-43cf-844c-8888aa4da6f2",
        "colab": {
          "base_uri": "https://localhost:8080/"
        }
      },
      "outputs": [
        {
          "output_type": "execute_result",
          "data": {
            "text/plain": [
              "0    1930.0\n",
              "1    1936.0\n",
              "2    1941.0\n",
              "3    1946.0\n",
              "4    1941.0\n",
              "Name: BeginDate, dtype: float64"
            ]
          },
          "metadata": {},
          "execution_count": 87
        }
      ],
      "source": [
        "transformed_BD = artist.BeginDate.apply(lambda val: np.nan if val == 0 else val)\n",
        "transformed_BD.head()"
      ]
    },
    {
      "cell_type": "markdown",
      "metadata": {
        "id": "qhVCZI-cbncU"
      },
      "source": [
        "## What's up with the `float dtype`?\n",
        "\n",
        "Good question, let's find out."
      ]
    },
    {
      "cell_type": "markdown",
      "metadata": {
        "id": "Jd78gVInbncU"
      },
      "source": [
        "## Converting transformed `BeginDate` - attempt 1\n",
        "\n",
        "Let's try to convert the `BeginDate` to `int`"
      ]
    },
    {
      "cell_type": "code",
      "execution_count": null,
      "metadata": {
        "id": "rRotwoy4bncU",
        "outputId": "ab9fc2a9-b436-4b04-f90f-5bfb3f356088",
        "colab": {
          "base_uri": "https://localhost:8080/",
          "height": 78
        }
      },
      "outputs": [
        {
          "output_type": "error",
          "ename": "IntCastingNaNError",
          "evalue": "ignored",
          "traceback": [
            "\u001b[0;31mIntCastingNaNError\u001b[0m\u001b[0;31m:\u001b[0m Cannot convert non-finite values (NA or inf) to integer\n"
          ]
        }
      ],
      "source": [
        "transformed_BD.astype('int')"
      ]
    },
    {
      "cell_type": "markdown",
      "metadata": {
        "id": "cNn1ynDUbncU"
      },
      "source": [
        "## `pandas`, `int` and `np.nan` don't mix\n",
        "\n",
        "* `pandas` `int` columns **cannot** have missing\n",
        "* `pd.__version__ == 0.24.1` fixes this\n",
        "    * Use `Int64` for integers with missing values\n",
        "    * Note the capital `I`\n",
        "* Update with `!pip install --upgrade pandas`"
      ]
    },
    {
      "cell_type": "code",
      "execution_count": null,
      "metadata": {
        "id": "vSo28nkDbncU"
      },
      "outputs": [],
      "source": [
        "assert pd.__version__.startswith('1') or pd.__version__.startswith('0.24'), \"Please upgrade your pandas and restart jupyter\"\n",
        "#!pip install --upgrade pandas"
      ]
    },
    {
      "cell_type": "markdown",
      "metadata": {
        "id": "qibwKpCObncV"
      },
      "source": [
        "## Converting `BeginDate` to `Int64`\n",
        "\n",
        "Hmm, that returned a `float` column.  Let's try to force `Int64`"
      ]
    },
    {
      "cell_type": "code",
      "execution_count": null,
      "metadata": {
        "scrolled": true,
        "id": "gZK5IPcIbncV",
        "outputId": "fc60bdc2-f3a9-4b28-f28d-67f3557c42c9",
        "colab": {
          "base_uri": "https://localhost:8080/"
        }
      },
      "outputs": [
        {
          "output_type": "execute_result",
          "data": {
            "text/plain": [
              "0     1930\n",
              "1     1936\n",
              "2     1941\n",
              "3     1946\n",
              "4     1941\n",
              "5     1925\n",
              "6     1941\n",
              "7     1923\n",
              "8     1918\n",
              "9     1886\n",
              "10    1936\n",
              "11    1911\n",
              "12    1907\n",
              "13    1900\n",
              "14    <NA>\n",
              "Name: BeginDate, dtype: Int64"
            ]
          },
          "metadata": {},
          "execution_count": 92
        }
      ],
      "source": [
        "transformed_BD.astype('Int64').head(15) # There we go!"
      ]
    },
    {
      "cell_type": "markdown",
      "metadata": {
        "id": "To01YM83bncV"
      },
      "source": [
        "## Downloading the 538 Uber FOIA data\n",
        "\n",
        "The [Uber dataset from 538](https://github.com/fivethirtyeight/uber-tlc-foil-response) is too large to include in this module's repository.  If you haven't already downloaded the Uber data, execute the following."
      ]
    },
    {
      "cell_type": "code",
      "execution_count": null,
      "metadata": {
        "id": "FNymcUJ9bncV",
        "outputId": "17120023-9aaf-4e66-d9f2-04e50e748636",
        "colab": {
          "base_uri": "https://localhost:8080/"
        }
      },
      "outputs": [
        {
          "output_type": "stream",
          "name": "stdout",
          "text": [
            "fatal: destination path './data/uber' already exists and is not an empty directory.\n"
          ]
        }
      ],
      "source": [
        "!git clone https://github.com/fivethirtyeight/uber-tlc-foil-response ./data/uber"
      ]
    },
    {
      "cell_type": "markdown",
      "metadata": {
        "id": "y7KWZVr7bncV"
      },
      "source": [
        "## Example 2 - Uber rides\n",
        "\n",
        "**Source:** [FiveThirtyEight Uber data](https://github.com/fivethirtyeight/uber-tlc-foil-response)\n",
        "\n",
        "**Note:** The actual data is pretty large, which we will deal with in the next section.  For now, we will load a subset (first 1000 rows)."
      ]
    },
    {
      "cell_type": "code",
      "execution_count": null,
      "metadata": {
        "id": "chxuBreVbncW",
        "outputId": "1a6076ff-32ac-4479-f6e6-c72dff66d5d9",
        "colab": {
          "base_uri": "https://localhost:8080/"
        }
      },
      "outputs": [
        {
          "output_type": "execute_result",
          "data": {
            "text/plain": [
              "          Date/Time      Lat      Lon    Base\n",
              "0  4/1/2014 0:11:00  40.7690 -73.9549  B02512\n",
              "1  4/1/2014 0:17:00  40.7267 -74.0345  B02512\n",
              "2  4/1/2014 0:21:00  40.7316 -73.9873  B02512\n",
              "3  4/1/2014 0:28:00  40.7588 -73.9776  B02512\n",
              "4  4/1/2014 0:33:00  40.7594 -73.9722  B02512"
            ],
            "text/html": [
              "\n",
              "  <div id=\"df-040f15c1-920c-4823-bb1e-aca19c02c48d\">\n",
              "    <div class=\"colab-df-container\">\n",
              "      <div>\n",
              "<style scoped>\n",
              "    .dataframe tbody tr th:only-of-type {\n",
              "        vertical-align: middle;\n",
              "    }\n",
              "\n",
              "    .dataframe tbody tr th {\n",
              "        vertical-align: top;\n",
              "    }\n",
              "\n",
              "    .dataframe thead th {\n",
              "        text-align: right;\n",
              "    }\n",
              "</style>\n",
              "<table border=\"1\" class=\"dataframe\">\n",
              "  <thead>\n",
              "    <tr style=\"text-align: right;\">\n",
              "      <th></th>\n",
              "      <th>Date/Time</th>\n",
              "      <th>Lat</th>\n",
              "      <th>Lon</th>\n",
              "      <th>Base</th>\n",
              "    </tr>\n",
              "  </thead>\n",
              "  <tbody>\n",
              "    <tr>\n",
              "      <th>0</th>\n",
              "      <td>4/1/2014 0:11:00</td>\n",
              "      <td>40.7690</td>\n",
              "      <td>-73.9549</td>\n",
              "      <td>B02512</td>\n",
              "    </tr>\n",
              "    <tr>\n",
              "      <th>1</th>\n",
              "      <td>4/1/2014 0:17:00</td>\n",
              "      <td>40.7267</td>\n",
              "      <td>-74.0345</td>\n",
              "      <td>B02512</td>\n",
              "    </tr>\n",
              "    <tr>\n",
              "      <th>2</th>\n",
              "      <td>4/1/2014 0:21:00</td>\n",
              "      <td>40.7316</td>\n",
              "      <td>-73.9873</td>\n",
              "      <td>B02512</td>\n",
              "    </tr>\n",
              "    <tr>\n",
              "      <th>3</th>\n",
              "      <td>4/1/2014 0:28:00</td>\n",
              "      <td>40.7588</td>\n",
              "      <td>-73.9776</td>\n",
              "      <td>B02512</td>\n",
              "    </tr>\n",
              "    <tr>\n",
              "      <th>4</th>\n",
              "      <td>4/1/2014 0:33:00</td>\n",
              "      <td>40.7594</td>\n",
              "      <td>-73.9722</td>\n",
              "      <td>B02512</td>\n",
              "    </tr>\n",
              "  </tbody>\n",
              "</table>\n",
              "</div>\n",
              "      <button class=\"colab-df-convert\" onclick=\"convertToInteractive('df-040f15c1-920c-4823-bb1e-aca19c02c48d')\"\n",
              "              title=\"Convert this dataframe to an interactive table.\"\n",
              "              style=\"display:none;\">\n",
              "        \n",
              "  <svg xmlns=\"http://www.w3.org/2000/svg\" height=\"24px\"viewBox=\"0 0 24 24\"\n",
              "       width=\"24px\">\n",
              "    <path d=\"M0 0h24v24H0V0z\" fill=\"none\"/>\n",
              "    <path d=\"M18.56 5.44l.94 2.06.94-2.06 2.06-.94-2.06-.94-.94-2.06-.94 2.06-2.06.94zm-11 1L8.5 8.5l.94-2.06 2.06-.94-2.06-.94L8.5 2.5l-.94 2.06-2.06.94zm10 10l.94 2.06.94-2.06 2.06-.94-2.06-.94-.94-2.06-.94 2.06-2.06.94z\"/><path d=\"M17.41 7.96l-1.37-1.37c-.4-.4-.92-.59-1.43-.59-.52 0-1.04.2-1.43.59L10.3 9.45l-7.72 7.72c-.78.78-.78 2.05 0 2.83L4 21.41c.39.39.9.59 1.41.59.51 0 1.02-.2 1.41-.59l7.78-7.78 2.81-2.81c.8-.78.8-2.07 0-2.86zM5.41 20L4 18.59l7.72-7.72 1.47 1.35L5.41 20z\"/>\n",
              "  </svg>\n",
              "      </button>\n",
              "      \n",
              "  <style>\n",
              "    .colab-df-container {\n",
              "      display:flex;\n",
              "      flex-wrap:wrap;\n",
              "      gap: 12px;\n",
              "    }\n",
              "\n",
              "    .colab-df-convert {\n",
              "      background-color: #E8F0FE;\n",
              "      border: none;\n",
              "      border-radius: 50%;\n",
              "      cursor: pointer;\n",
              "      display: none;\n",
              "      fill: #1967D2;\n",
              "      height: 32px;\n",
              "      padding: 0 0 0 0;\n",
              "      width: 32px;\n",
              "    }\n",
              "\n",
              "    .colab-df-convert:hover {\n",
              "      background-color: #E2EBFA;\n",
              "      box-shadow: 0px 1px 2px rgba(60, 64, 67, 0.3), 0px 1px 3px 1px rgba(60, 64, 67, 0.15);\n",
              "      fill: #174EA6;\n",
              "    }\n",
              "\n",
              "    [theme=dark] .colab-df-convert {\n",
              "      background-color: #3B4455;\n",
              "      fill: #D2E3FC;\n",
              "    }\n",
              "\n",
              "    [theme=dark] .colab-df-convert:hover {\n",
              "      background-color: #434B5C;\n",
              "      box-shadow: 0px 1px 3px 1px rgba(0, 0, 0, 0.15);\n",
              "      filter: drop-shadow(0px 1px 2px rgba(0, 0, 0, 0.3));\n",
              "      fill: #FFFFFF;\n",
              "    }\n",
              "  </style>\n",
              "\n",
              "      <script>\n",
              "        const buttonEl =\n",
              "          document.querySelector('#df-040f15c1-920c-4823-bb1e-aca19c02c48d button.colab-df-convert');\n",
              "        buttonEl.style.display =\n",
              "          google.colab.kernel.accessAllowed ? 'block' : 'none';\n",
              "\n",
              "        async function convertToInteractive(key) {\n",
              "          const element = document.querySelector('#df-040f15c1-920c-4823-bb1e-aca19c02c48d');\n",
              "          const dataTable =\n",
              "            await google.colab.kernel.invokeFunction('convertToInteractive',\n",
              "                                                     [key], {});\n",
              "          if (!dataTable) return;\n",
              "\n",
              "          const docLinkHtml = 'Like what you see? Visit the ' +\n",
              "            '<a target=\"_blank\" href=https://colab.research.google.com/notebooks/data_table.ipynb>data table notebook</a>'\n",
              "            + ' to learn more about interactive tables.';\n",
              "          element.innerHTML = '';\n",
              "          dataTable['output_type'] = 'display_data';\n",
              "          await google.colab.output.renderOutput(dataTable, element);\n",
              "          const docLink = document.createElement('div');\n",
              "          docLink.innerHTML = docLinkHtml;\n",
              "          element.appendChild(docLink);\n",
              "        }\n",
              "      </script>\n",
              "    </div>\n",
              "  </div>\n",
              "  "
            ]
          },
          "metadata": {},
          "execution_count": 94
        }
      ],
      "source": [
        "uber_april_raw = pd.read_csv(\"./data/uber/uber-trip-data/uber-raw-data-apr14.csv\")\n",
        "uber_april_raw.head()"
      ]
    },
    {
      "cell_type": "markdown",
      "metadata": {
        "id": "AIsakhrTbncW"
      },
      "source": [
        "## <font color=\"red\"> Exercise 1</font>\n",
        "\n",
        "Fix the names.  Be sure to rename the `\"Date/Time\"` `'date'` and name the resulting data frame `uber_april_renamed`."
      ]
    },
    {
      "cell_type": "code",
      "execution_count": null,
      "metadata": {
        "id": "j1PbdZs2bncW",
        "colab": {
          "base_uri": "https://localhost:8080/"
        },
        "outputId": "3ea0e8ef-c020-4153-f1c9-24455423d574"
      },
      "outputs": [
        {
          "output_type": "execute_result",
          "data": {
            "text/plain": [
              "       Lat      Lon    Base              date\n",
              "0  40.7690 -73.9549  B02512  4/1/2014 0:11:00\n",
              "1  40.7267 -74.0345  B02512  4/1/2014 0:17:00\n",
              "2  40.7316 -73.9873  B02512  4/1/2014 0:21:00\n",
              "3  40.7588 -73.9776  B02512  4/1/2014 0:28:00\n",
              "4  40.7594 -73.9722  B02512  4/1/2014 0:33:00"
            ],
            "text/html": [
              "\n",
              "  <div id=\"df-df1e0fcb-9026-4966-af84-4e3bbebdc149\">\n",
              "    <div class=\"colab-df-container\">\n",
              "      <div>\n",
              "<style scoped>\n",
              "    .dataframe tbody tr th:only-of-type {\n",
              "        vertical-align: middle;\n",
              "    }\n",
              "\n",
              "    .dataframe tbody tr th {\n",
              "        vertical-align: top;\n",
              "    }\n",
              "\n",
              "    .dataframe thead th {\n",
              "        text-align: right;\n",
              "    }\n",
              "</style>\n",
              "<table border=\"1\" class=\"dataframe\">\n",
              "  <thead>\n",
              "    <tr style=\"text-align: right;\">\n",
              "      <th></th>\n",
              "      <th>Lat</th>\n",
              "      <th>Lon</th>\n",
              "      <th>Base</th>\n",
              "      <th>date</th>\n",
              "    </tr>\n",
              "  </thead>\n",
              "  <tbody>\n",
              "    <tr>\n",
              "      <th>0</th>\n",
              "      <td>40.7690</td>\n",
              "      <td>-73.9549</td>\n",
              "      <td>B02512</td>\n",
              "      <td>4/1/2014 0:11:00</td>\n",
              "    </tr>\n",
              "    <tr>\n",
              "      <th>1</th>\n",
              "      <td>40.7267</td>\n",
              "      <td>-74.0345</td>\n",
              "      <td>B02512</td>\n",
              "      <td>4/1/2014 0:17:00</td>\n",
              "    </tr>\n",
              "    <tr>\n",
              "      <th>2</th>\n",
              "      <td>40.7316</td>\n",
              "      <td>-73.9873</td>\n",
              "      <td>B02512</td>\n",
              "      <td>4/1/2014 0:21:00</td>\n",
              "    </tr>\n",
              "    <tr>\n",
              "      <th>3</th>\n",
              "      <td>40.7588</td>\n",
              "      <td>-73.9776</td>\n",
              "      <td>B02512</td>\n",
              "      <td>4/1/2014 0:28:00</td>\n",
              "    </tr>\n",
              "    <tr>\n",
              "      <th>4</th>\n",
              "      <td>40.7594</td>\n",
              "      <td>-73.9722</td>\n",
              "      <td>B02512</td>\n",
              "      <td>4/1/2014 0:33:00</td>\n",
              "    </tr>\n",
              "  </tbody>\n",
              "</table>\n",
              "</div>\n",
              "      <button class=\"colab-df-convert\" onclick=\"convertToInteractive('df-df1e0fcb-9026-4966-af84-4e3bbebdc149')\"\n",
              "              title=\"Convert this dataframe to an interactive table.\"\n",
              "              style=\"display:none;\">\n",
              "        \n",
              "  <svg xmlns=\"http://www.w3.org/2000/svg\" height=\"24px\"viewBox=\"0 0 24 24\"\n",
              "       width=\"24px\">\n",
              "    <path d=\"M0 0h24v24H0V0z\" fill=\"none\"/>\n",
              "    <path d=\"M18.56 5.44l.94 2.06.94-2.06 2.06-.94-2.06-.94-.94-2.06-.94 2.06-2.06.94zm-11 1L8.5 8.5l.94-2.06 2.06-.94-2.06-.94L8.5 2.5l-.94 2.06-2.06.94zm10 10l.94 2.06.94-2.06 2.06-.94-2.06-.94-.94-2.06-.94 2.06-2.06.94z\"/><path d=\"M17.41 7.96l-1.37-1.37c-.4-.4-.92-.59-1.43-.59-.52 0-1.04.2-1.43.59L10.3 9.45l-7.72 7.72c-.78.78-.78 2.05 0 2.83L4 21.41c.39.39.9.59 1.41.59.51 0 1.02-.2 1.41-.59l7.78-7.78 2.81-2.81c.8-.78.8-2.07 0-2.86zM5.41 20L4 18.59l7.72-7.72 1.47 1.35L5.41 20z\"/>\n",
              "  </svg>\n",
              "      </button>\n",
              "      \n",
              "  <style>\n",
              "    .colab-df-container {\n",
              "      display:flex;\n",
              "      flex-wrap:wrap;\n",
              "      gap: 12px;\n",
              "    }\n",
              "\n",
              "    .colab-df-convert {\n",
              "      background-color: #E8F0FE;\n",
              "      border: none;\n",
              "      border-radius: 50%;\n",
              "      cursor: pointer;\n",
              "      display: none;\n",
              "      fill: #1967D2;\n",
              "      height: 32px;\n",
              "      padding: 0 0 0 0;\n",
              "      width: 32px;\n",
              "    }\n",
              "\n",
              "    .colab-df-convert:hover {\n",
              "      background-color: #E2EBFA;\n",
              "      box-shadow: 0px 1px 2px rgba(60, 64, 67, 0.3), 0px 1px 3px 1px rgba(60, 64, 67, 0.15);\n",
              "      fill: #174EA6;\n",
              "    }\n",
              "\n",
              "    [theme=dark] .colab-df-convert {\n",
              "      background-color: #3B4455;\n",
              "      fill: #D2E3FC;\n",
              "    }\n",
              "\n",
              "    [theme=dark] .colab-df-convert:hover {\n",
              "      background-color: #434B5C;\n",
              "      box-shadow: 0px 1px 3px 1px rgba(0, 0, 0, 0.15);\n",
              "      filter: drop-shadow(0px 1px 2px rgba(0, 0, 0, 0.3));\n",
              "      fill: #FFFFFF;\n",
              "    }\n",
              "  </style>\n",
              "\n",
              "      <script>\n",
              "        const buttonEl =\n",
              "          document.querySelector('#df-df1e0fcb-9026-4966-af84-4e3bbebdc149 button.colab-df-convert');\n",
              "        buttonEl.style.display =\n",
              "          google.colab.kernel.accessAllowed ? 'block' : 'none';\n",
              "\n",
              "        async function convertToInteractive(key) {\n",
              "          const element = document.querySelector('#df-df1e0fcb-9026-4966-af84-4e3bbebdc149');\n",
              "          const dataTable =\n",
              "            await google.colab.kernel.invokeFunction('convertToInteractive',\n",
              "                                                     [key], {});\n",
              "          if (!dataTable) return;\n",
              "\n",
              "          const docLinkHtml = 'Like what you see? Visit the ' +\n",
              "            '<a target=\"_blank\" href=https://colab.research.google.com/notebooks/data_table.ipynb>data table notebook</a>'\n",
              "            + ' to learn more about interactive tables.';\n",
              "          element.innerHTML = '';\n",
              "          dataTable['output_type'] = 'display_data';\n",
              "          await google.colab.output.renderOutput(dataTable, element);\n",
              "          const docLink = document.createElement('div');\n",
              "          docLink.innerHTML = docLinkHtml;\n",
              "          element.appendChild(docLink);\n",
              "        }\n",
              "      </script>\n",
              "    </div>\n",
              "  </div>\n",
              "  "
            ]
          },
          "metadata": {},
          "execution_count": 95
        }
      ],
      "source": [
        "uber_april_renamed = (uber_april_raw\n",
        "                        >>mutate(date = X[\"Date/Time\"])\n",
        "                        >>select(X.Lat, X.Lon, X.Base, X.date)\n",
        "                     )\n",
        "uber_april_renamed.head()"
      ]
    },
    {
      "cell_type": "markdown",
      "metadata": {
        "id": "C0yeiWiUbncW"
      },
      "source": [
        "## <font color=\"red\"> Exercise 2</font>\n",
        "\n",
        "**Tasks:**\n",
        "\n",
        "1. Inspect the `dtypes`\n",
        "2. Suggest a good type for the `date` column"
      ]
    },
    {
      "cell_type": "code",
      "execution_count": null,
      "metadata": {
        "id": "VZ4FaNIZbncW",
        "colab": {
          "base_uri": "https://localhost:8080/"
        },
        "outputId": "7de543ef-f645-4113-da97-8904ae417736"
      },
      "outputs": [
        {
          "output_type": "execute_result",
          "data": {
            "text/plain": [
              "Lat     float64\n",
              "Lon     float64\n",
              "Base     object\n",
              "date     object\n",
              "dtype: object"
            ]
          },
          "metadata": {},
          "execution_count": 96
        }
      ],
      "source": [
        "uber_april_renamed.dtypes"
      ]
    },
    {
      "cell_type": "markdown",
      "metadata": {
        "id": "EW2qQ4u5bncW"
      },
      "source": [
        "a datetime column"
      ]
    },
    {
      "cell_type": "markdown",
      "metadata": {
        "id": "rZHIBm9PbncW"
      },
      "source": [
        "## Changing to date type with  `pd.to_datetime`"
      ]
    },
    {
      "cell_type": "code",
      "execution_count": null,
      "metadata": {
        "id": "bvjX-Xp9bncW",
        "outputId": "2114bc11-03f2-4517-c4d9-61cd482cb18d",
        "colab": {
          "base_uri": "https://localhost:8080/"
        }
      },
      "outputs": [
        {
          "output_type": "execute_result",
          "data": {
            "text/plain": [
              "0   2014-04-01 00:11:00\n",
              "1   2014-04-01 00:17:00\n",
              "2   2014-04-01 00:21:00\n",
              "3   2014-04-01 00:28:00\n",
              "4   2014-04-01 00:33:00\n",
              "Name: date, dtype: datetime64[ns]"
            ]
          },
          "metadata": {},
          "execution_count": 97
        }
      ],
      "source": [
        "pd.to_datetime(uber_april_renamed.date.head())"
      ]
    },
    {
      "cell_type": "markdown",
      "metadata": {
        "id": "ezm55P9bbncX"
      },
      "source": [
        "## Making a `dfply` compatible column function.\n",
        "\n",
        "Suppose you have a function you want to use inside `mutate` (i.e. a **column function**).  To make this function compatable with `dfply.Intention`s, you should \n",
        "\n",
        "1. Wrap the `pandas` call inside a function.\n",
        "2. Decorate with `@make_symbolic`"
      ]
    },
    {
      "cell_type": "code",
      "execution_count": null,
      "metadata": {
        "id": "g2xuzKDdbncX"
      },
      "outputs": [],
      "source": [
        "@make_symbolic\n",
        "def to_datetime(series, infer_datetime_format=True):\n",
        "    return pd.to_datetime(series, infer_datetime_format=infer_datetime_format)"
      ]
    },
    {
      "cell_type": "markdown",
      "metadata": {
        "id": "SJsLeAFhbncX"
      },
      "source": [
        "## Converting to dates with `dfply`\n",
        "\n",
        "Note that above function is available in `more_dfply.to_datetime` is a `dfply` compatible version of `pd.to_datetime`."
      ]
    },
    {
      "cell_type": "code",
      "execution_count": null,
      "metadata": {
        "scrolled": false,
        "id": "HsczIlxsbncX",
        "colab": {
          "base_uri": "https://localhost:8080/"
        },
        "outputId": "54e152d3-24d5-4d6c-b984-f62a20e8c4e7"
      },
      "outputs": [
        {
          "output_type": "stream",
          "name": "stdout",
          "text": [
            "Looking in indexes: https://pypi.org/simple, https://us-python.pkg.dev/colab-wheels/public/simple/\n",
            "Requirement already satisfied: more_dfply in /usr/local/lib/python3.7/dist-packages (0.2.10)\n",
            "Requirement already satisfied: composable<0.3.0,>=0.2.5 in /usr/local/lib/python3.7/dist-packages (from more_dfply) (0.2.5)\n",
            "Requirement already satisfied: dfply<0.4.0,>=0.3.3 in /usr/local/lib/python3.7/dist-packages (from more_dfply) (0.3.3)\n",
            "Requirement already satisfied: toolz<0.12.0,>=0.11.1 in /usr/local/lib/python3.7/dist-packages (from composable<0.3.0,>=0.2.5->more_dfply) (0.11.2)\n",
            "Requirement already satisfied: python-forge<19.0,>=18.6 in /usr/local/lib/python3.7/dist-packages (from composable<0.3.0,>=0.2.5->more_dfply) (18.6.0)\n",
            "Requirement already satisfied: numpy in /usr/local/lib/python3.7/dist-packages (from dfply<0.4.0,>=0.3.3->more_dfply) (1.21.6)\n",
            "Requirement already satisfied: pandas in /usr/local/lib/python3.7/dist-packages (from dfply<0.4.0,>=0.3.3->more_dfply) (1.3.5)\n",
            "Requirement already satisfied: python-dateutil>=2.7.3 in /usr/local/lib/python3.7/dist-packages (from pandas->dfply<0.4.0,>=0.3.3->more_dfply) (2.8.2)\n",
            "Requirement already satisfied: pytz>=2017.3 in /usr/local/lib/python3.7/dist-packages (from pandas->dfply<0.4.0,>=0.3.3->more_dfply) (2022.2.1)\n",
            "Requirement already satisfied: six>=1.5 in /usr/local/lib/python3.7/dist-packages (from python-dateutil>=2.7.3->pandas->dfply<0.4.0,>=0.3.3->more_dfply) (1.15.0)\n"
          ]
        }
      ],
      "source": [
        "!pip install more_dfply"
      ]
    },
    {
      "cell_type": "code",
      "execution_count": null,
      "metadata": {
        "id": "kpCJEJLlbncX",
        "outputId": "51b34be8-d1e5-4fee-ced3-2e9ad46b0f9a",
        "colab": {
          "base_uri": "https://localhost:8080/"
        }
      },
      "outputs": [
        {
          "output_type": "execute_result",
          "data": {
            "text/plain": [
              "Lat            float64\n",
              "Lon            float64\n",
              "Base            object\n",
              "date    datetime64[ns]\n",
              "dtype: object"
            ]
          },
          "metadata": {},
          "execution_count": 100
        }
      ],
      "source": [
        "from more_dfply import to_datetime\n",
        "uber_april = (uber_april_renamed >>\n",
        "                mutate(date = to_datetime(X.date)))\n",
        "uber_april.dtypes"
      ]
    },
    {
      "cell_type": "markdown",
      "metadata": {
        "id": "kHRUK8FQbncX"
      },
      "source": [
        "## Why convert to `datetime`?\n",
        "\n",
        "This series type provides many useful date methods and attributes.  For example, we get many **dateparts methods** in the `dt` attribute."
      ]
    },
    {
      "cell_type": "code",
      "execution_count": null,
      "metadata": {
        "id": "LyaMTWNJbncX",
        "outputId": "5e77fb78-e7a9-4e81-b139-c2e672676bcd",
        "colab": {
          "base_uri": "https://localhost:8080/"
        }
      },
      "outputs": [
        {
          "output_type": "execute_result",
          "data": {
            "text/plain": [
              "       Lat      Lon    Base                date  weekday\n",
              "0  40.7690 -73.9549  B02512 2014-04-01 00:11:00  Tuesday\n",
              "1  40.7267 -74.0345  B02512 2014-04-01 00:17:00  Tuesday\n",
              "2  40.7316 -73.9873  B02512 2014-04-01 00:21:00  Tuesday\n",
              "3  40.7588 -73.9776  B02512 2014-04-01 00:28:00  Tuesday\n",
              "4  40.7594 -73.9722  B02512 2014-04-01 00:33:00  Tuesday"
            ],
            "text/html": [
              "\n",
              "  <div id=\"df-58f455a3-acc1-426e-80a2-2930c22dea83\">\n",
              "    <div class=\"colab-df-container\">\n",
              "      <div>\n",
              "<style scoped>\n",
              "    .dataframe tbody tr th:only-of-type {\n",
              "        vertical-align: middle;\n",
              "    }\n",
              "\n",
              "    .dataframe tbody tr th {\n",
              "        vertical-align: top;\n",
              "    }\n",
              "\n",
              "    .dataframe thead th {\n",
              "        text-align: right;\n",
              "    }\n",
              "</style>\n",
              "<table border=\"1\" class=\"dataframe\">\n",
              "  <thead>\n",
              "    <tr style=\"text-align: right;\">\n",
              "      <th></th>\n",
              "      <th>Lat</th>\n",
              "      <th>Lon</th>\n",
              "      <th>Base</th>\n",
              "      <th>date</th>\n",
              "      <th>weekday</th>\n",
              "    </tr>\n",
              "  </thead>\n",
              "  <tbody>\n",
              "    <tr>\n",
              "      <th>0</th>\n",
              "      <td>40.7690</td>\n",
              "      <td>-73.9549</td>\n",
              "      <td>B02512</td>\n",
              "      <td>2014-04-01 00:11:00</td>\n",
              "      <td>Tuesday</td>\n",
              "    </tr>\n",
              "    <tr>\n",
              "      <th>1</th>\n",
              "      <td>40.7267</td>\n",
              "      <td>-74.0345</td>\n",
              "      <td>B02512</td>\n",
              "      <td>2014-04-01 00:17:00</td>\n",
              "      <td>Tuesday</td>\n",
              "    </tr>\n",
              "    <tr>\n",
              "      <th>2</th>\n",
              "      <td>40.7316</td>\n",
              "      <td>-73.9873</td>\n",
              "      <td>B02512</td>\n",
              "      <td>2014-04-01 00:21:00</td>\n",
              "      <td>Tuesday</td>\n",
              "    </tr>\n",
              "    <tr>\n",
              "      <th>3</th>\n",
              "      <td>40.7588</td>\n",
              "      <td>-73.9776</td>\n",
              "      <td>B02512</td>\n",
              "      <td>2014-04-01 00:28:00</td>\n",
              "      <td>Tuesday</td>\n",
              "    </tr>\n",
              "    <tr>\n",
              "      <th>4</th>\n",
              "      <td>40.7594</td>\n",
              "      <td>-73.9722</td>\n",
              "      <td>B02512</td>\n",
              "      <td>2014-04-01 00:33:00</td>\n",
              "      <td>Tuesday</td>\n",
              "    </tr>\n",
              "  </tbody>\n",
              "</table>\n",
              "</div>\n",
              "      <button class=\"colab-df-convert\" onclick=\"convertToInteractive('df-58f455a3-acc1-426e-80a2-2930c22dea83')\"\n",
              "              title=\"Convert this dataframe to an interactive table.\"\n",
              "              style=\"display:none;\">\n",
              "        \n",
              "  <svg xmlns=\"http://www.w3.org/2000/svg\" height=\"24px\"viewBox=\"0 0 24 24\"\n",
              "       width=\"24px\">\n",
              "    <path d=\"M0 0h24v24H0V0z\" fill=\"none\"/>\n",
              "    <path d=\"M18.56 5.44l.94 2.06.94-2.06 2.06-.94-2.06-.94-.94-2.06-.94 2.06-2.06.94zm-11 1L8.5 8.5l.94-2.06 2.06-.94-2.06-.94L8.5 2.5l-.94 2.06-2.06.94zm10 10l.94 2.06.94-2.06 2.06-.94-2.06-.94-.94-2.06-.94 2.06-2.06.94z\"/><path d=\"M17.41 7.96l-1.37-1.37c-.4-.4-.92-.59-1.43-.59-.52 0-1.04.2-1.43.59L10.3 9.45l-7.72 7.72c-.78.78-.78 2.05 0 2.83L4 21.41c.39.39.9.59 1.41.59.51 0 1.02-.2 1.41-.59l7.78-7.78 2.81-2.81c.8-.78.8-2.07 0-2.86zM5.41 20L4 18.59l7.72-7.72 1.47 1.35L5.41 20z\"/>\n",
              "  </svg>\n",
              "      </button>\n",
              "      \n",
              "  <style>\n",
              "    .colab-df-container {\n",
              "      display:flex;\n",
              "      flex-wrap:wrap;\n",
              "      gap: 12px;\n",
              "    }\n",
              "\n",
              "    .colab-df-convert {\n",
              "      background-color: #E8F0FE;\n",
              "      border: none;\n",
              "      border-radius: 50%;\n",
              "      cursor: pointer;\n",
              "      display: none;\n",
              "      fill: #1967D2;\n",
              "      height: 32px;\n",
              "      padding: 0 0 0 0;\n",
              "      width: 32px;\n",
              "    }\n",
              "\n",
              "    .colab-df-convert:hover {\n",
              "      background-color: #E2EBFA;\n",
              "      box-shadow: 0px 1px 2px rgba(60, 64, 67, 0.3), 0px 1px 3px 1px rgba(60, 64, 67, 0.15);\n",
              "      fill: #174EA6;\n",
              "    }\n",
              "\n",
              "    [theme=dark] .colab-df-convert {\n",
              "      background-color: #3B4455;\n",
              "      fill: #D2E3FC;\n",
              "    }\n",
              "\n",
              "    [theme=dark] .colab-df-convert:hover {\n",
              "      background-color: #434B5C;\n",
              "      box-shadow: 0px 1px 3px 1px rgba(0, 0, 0, 0.15);\n",
              "      filter: drop-shadow(0px 1px 2px rgba(0, 0, 0, 0.3));\n",
              "      fill: #FFFFFF;\n",
              "    }\n",
              "  </style>\n",
              "\n",
              "      <script>\n",
              "        const buttonEl =\n",
              "          document.querySelector('#df-58f455a3-acc1-426e-80a2-2930c22dea83 button.colab-df-convert');\n",
              "        buttonEl.style.display =\n",
              "          google.colab.kernel.accessAllowed ? 'block' : 'none';\n",
              "\n",
              "        async function convertToInteractive(key) {\n",
              "          const element = document.querySelector('#df-58f455a3-acc1-426e-80a2-2930c22dea83');\n",
              "          const dataTable =\n",
              "            await google.colab.kernel.invokeFunction('convertToInteractive',\n",
              "                                                     [key], {});\n",
              "          if (!dataTable) return;\n",
              "\n",
              "          const docLinkHtml = 'Like what you see? Visit the ' +\n",
              "            '<a target=\"_blank\" href=https://colab.research.google.com/notebooks/data_table.ipynb>data table notebook</a>'\n",
              "            + ' to learn more about interactive tables.';\n",
              "          element.innerHTML = '';\n",
              "          dataTable['output_type'] = 'display_data';\n",
              "          await google.colab.output.renderOutput(dataTable, element);\n",
              "          const docLink = document.createElement('div');\n",
              "          docLink.innerHTML = docLinkHtml;\n",
              "          element.appendChild(docLink);\n",
              "        }\n",
              "      </script>\n",
              "    </div>\n",
              "  </div>\n",
              "  "
            ]
          },
          "metadata": {},
          "execution_count": 101
        }
      ],
      "source": [
        "uber_april_weekday = (uber_april  >>\n",
        "                        mutate(weekday = X.date.dt.day_name()))\n",
        "uber_april_weekday.head()"
      ]
    },
    {
      "cell_type": "markdown",
      "metadata": {
        "id": "bW1ny3AWbncY"
      },
      "source": [
        "## <font color=\"red\"> Exercise 3</font>\n",
        "\n",
        "**Tasks:**\n",
        "\n",
        "1. Use `dir` to inspect the dateparts found in `dt`\n",
        "2. Add a few more datepart columns.\n",
        "3. Name the resulting dataframe `uber_april_datepart`"
      ]
    },
    {
      "cell_type": "code",
      "execution_count": null,
      "metadata": {
        "id": "TqcyxNaXbncY",
        "colab": {
          "base_uri": "https://localhost:8080/"
        },
        "outputId": "39f39b5f-aa86-44b0-c120-506b1dcb86b1"
      },
      "outputs": [
        {
          "output_type": "execute_result",
          "data": {
            "text/plain": [
              "['__annotations__',\n",
              " '__class__',\n",
              " '__delattr__',\n",
              " '__dict__',\n",
              " '__dir__',\n",
              " '__doc__',\n",
              " '__eq__',\n",
              " '__format__',\n",
              " '__ge__',\n",
              " '__getattribute__',\n",
              " '__gt__',\n",
              " '__hash__',\n",
              " '__init__',\n",
              " '__init_subclass__',\n",
              " '__le__',\n",
              " '__lt__',\n",
              " '__module__',\n",
              " '__ne__',\n",
              " '__new__',\n",
              " '__reduce__',\n",
              " '__reduce_ex__',\n",
              " '__repr__',\n",
              " '__setattr__',\n",
              " '__sizeof__',\n",
              " '__str__',\n",
              " '__subclasshook__',\n",
              " '__weakref__',\n",
              " '_accessors',\n",
              " '_add_delegate_accessors',\n",
              " '_constructor',\n",
              " '_delegate_method',\n",
              " '_delegate_property_get',\n",
              " '_delegate_property_set',\n",
              " '_dir_additions',\n",
              " '_dir_deletions',\n",
              " '_freeze',\n",
              " '_get_values',\n",
              " '_hidden_attrs',\n",
              " '_reset_cache',\n",
              " 'asfreq',\n",
              " 'ceil',\n",
              " 'components',\n",
              " 'date',\n",
              " 'day',\n",
              " 'day_name',\n",
              " 'day_of_week',\n",
              " 'day_of_year',\n",
              " 'dayofweek',\n",
              " 'dayofyear',\n",
              " 'days',\n",
              " 'days_in_month',\n",
              " 'daysinmonth',\n",
              " 'end_time',\n",
              " 'floor',\n",
              " 'freq',\n",
              " 'hour',\n",
              " 'is_leap_year',\n",
              " 'is_month_end',\n",
              " 'is_month_start',\n",
              " 'is_quarter_end',\n",
              " 'is_quarter_start',\n",
              " 'is_year_end',\n",
              " 'is_year_start',\n",
              " 'isocalendar',\n",
              " 'microsecond',\n",
              " 'microseconds',\n",
              " 'minute',\n",
              " 'month',\n",
              " 'month_name',\n",
              " 'nanosecond',\n",
              " 'nanoseconds',\n",
              " 'normalize',\n",
              " 'quarter',\n",
              " 'qyear',\n",
              " 'round',\n",
              " 'second',\n",
              " 'seconds',\n",
              " 'start_time',\n",
              " 'strftime',\n",
              " 'time',\n",
              " 'timetz',\n",
              " 'to_period',\n",
              " 'to_pydatetime',\n",
              " 'to_pytimedelta',\n",
              " 'to_timestamp',\n",
              " 'total_seconds',\n",
              " 'tz',\n",
              " 'tz_convert',\n",
              " 'tz_localize',\n",
              " 'week',\n",
              " 'weekday',\n",
              " 'weekofyear',\n",
              " 'year']"
            ]
          },
          "metadata": {},
          "execution_count": 102
        }
      ],
      "source": [
        "dir(pd.Series.dt)"
      ]
    },
    {
      "cell_type": "code",
      "source": [
        "uber_april_datepart = (uber_april_weekday  >>\n",
        "                        mutate(week = X.date.dt.week,\n",
        "                               month = X.date.dt.month,\n",
        "                               year = X.date.dt.year)                    \n",
        "                        ) \n",
        "uber_april_datepart.head()"
      ],
      "metadata": {
        "colab": {
          "base_uri": "https://localhost:8080/"
        },
        "id": "6ltO3Kd63R83",
        "outputId": "571f9b93-6698-4e67-b351-6092cd3cdd90"
      },
      "execution_count": null,
      "outputs": [
        {
          "output_type": "stream",
          "name": "stderr",
          "text": [
            "/usr/local/lib/python3.7/dist-packages/dfply/base.py:74: FutureWarning: Series.dt.weekofyear and Series.dt.week have been deprecated.  Please use Series.dt.isocalendar().week instead.\n",
            "  return Intention(lambda x: getattr(self.function(x), attribute),\n"
          ]
        },
        {
          "output_type": "execute_result",
          "data": {
            "text/plain": [
              "       Lat      Lon    Base                date  weekday  week  month  year\n",
              "0  40.7690 -73.9549  B02512 2014-04-01 00:11:00  Tuesday    14      4  2014\n",
              "1  40.7267 -74.0345  B02512 2014-04-01 00:17:00  Tuesday    14      4  2014\n",
              "2  40.7316 -73.9873  B02512 2014-04-01 00:21:00  Tuesday    14      4  2014\n",
              "3  40.7588 -73.9776  B02512 2014-04-01 00:28:00  Tuesday    14      4  2014\n",
              "4  40.7594 -73.9722  B02512 2014-04-01 00:33:00  Tuesday    14      4  2014"
            ],
            "text/html": [
              "\n",
              "  <div id=\"df-e622adc5-f966-4061-b77f-6f8efae26f85\">\n",
              "    <div class=\"colab-df-container\">\n",
              "      <div>\n",
              "<style scoped>\n",
              "    .dataframe tbody tr th:only-of-type {\n",
              "        vertical-align: middle;\n",
              "    }\n",
              "\n",
              "    .dataframe tbody tr th {\n",
              "        vertical-align: top;\n",
              "    }\n",
              "\n",
              "    .dataframe thead th {\n",
              "        text-align: right;\n",
              "    }\n",
              "</style>\n",
              "<table border=\"1\" class=\"dataframe\">\n",
              "  <thead>\n",
              "    <tr style=\"text-align: right;\">\n",
              "      <th></th>\n",
              "      <th>Lat</th>\n",
              "      <th>Lon</th>\n",
              "      <th>Base</th>\n",
              "      <th>date</th>\n",
              "      <th>weekday</th>\n",
              "      <th>week</th>\n",
              "      <th>month</th>\n",
              "      <th>year</th>\n",
              "    </tr>\n",
              "  </thead>\n",
              "  <tbody>\n",
              "    <tr>\n",
              "      <th>0</th>\n",
              "      <td>40.7690</td>\n",
              "      <td>-73.9549</td>\n",
              "      <td>B02512</td>\n",
              "      <td>2014-04-01 00:11:00</td>\n",
              "      <td>Tuesday</td>\n",
              "      <td>14</td>\n",
              "      <td>4</td>\n",
              "      <td>2014</td>\n",
              "    </tr>\n",
              "    <tr>\n",
              "      <th>1</th>\n",
              "      <td>40.7267</td>\n",
              "      <td>-74.0345</td>\n",
              "      <td>B02512</td>\n",
              "      <td>2014-04-01 00:17:00</td>\n",
              "      <td>Tuesday</td>\n",
              "      <td>14</td>\n",
              "      <td>4</td>\n",
              "      <td>2014</td>\n",
              "    </tr>\n",
              "    <tr>\n",
              "      <th>2</th>\n",
              "      <td>40.7316</td>\n",
              "      <td>-73.9873</td>\n",
              "      <td>B02512</td>\n",
              "      <td>2014-04-01 00:21:00</td>\n",
              "      <td>Tuesday</td>\n",
              "      <td>14</td>\n",
              "      <td>4</td>\n",
              "      <td>2014</td>\n",
              "    </tr>\n",
              "    <tr>\n",
              "      <th>3</th>\n",
              "      <td>40.7588</td>\n",
              "      <td>-73.9776</td>\n",
              "      <td>B02512</td>\n",
              "      <td>2014-04-01 00:28:00</td>\n",
              "      <td>Tuesday</td>\n",
              "      <td>14</td>\n",
              "      <td>4</td>\n",
              "      <td>2014</td>\n",
              "    </tr>\n",
              "    <tr>\n",
              "      <th>4</th>\n",
              "      <td>40.7594</td>\n",
              "      <td>-73.9722</td>\n",
              "      <td>B02512</td>\n",
              "      <td>2014-04-01 00:33:00</td>\n",
              "      <td>Tuesday</td>\n",
              "      <td>14</td>\n",
              "      <td>4</td>\n",
              "      <td>2014</td>\n",
              "    </tr>\n",
              "  </tbody>\n",
              "</table>\n",
              "</div>\n",
              "      <button class=\"colab-df-convert\" onclick=\"convertToInteractive('df-e622adc5-f966-4061-b77f-6f8efae26f85')\"\n",
              "              title=\"Convert this dataframe to an interactive table.\"\n",
              "              style=\"display:none;\">\n",
              "        \n",
              "  <svg xmlns=\"http://www.w3.org/2000/svg\" height=\"24px\"viewBox=\"0 0 24 24\"\n",
              "       width=\"24px\">\n",
              "    <path d=\"M0 0h24v24H0V0z\" fill=\"none\"/>\n",
              "    <path d=\"M18.56 5.44l.94 2.06.94-2.06 2.06-.94-2.06-.94-.94-2.06-.94 2.06-2.06.94zm-11 1L8.5 8.5l.94-2.06 2.06-.94-2.06-.94L8.5 2.5l-.94 2.06-2.06.94zm10 10l.94 2.06.94-2.06 2.06-.94-2.06-.94-.94-2.06-.94 2.06-2.06.94z\"/><path d=\"M17.41 7.96l-1.37-1.37c-.4-.4-.92-.59-1.43-.59-.52 0-1.04.2-1.43.59L10.3 9.45l-7.72 7.72c-.78.78-.78 2.05 0 2.83L4 21.41c.39.39.9.59 1.41.59.51 0 1.02-.2 1.41-.59l7.78-7.78 2.81-2.81c.8-.78.8-2.07 0-2.86zM5.41 20L4 18.59l7.72-7.72 1.47 1.35L5.41 20z\"/>\n",
              "  </svg>\n",
              "      </button>\n",
              "      \n",
              "  <style>\n",
              "    .colab-df-container {\n",
              "      display:flex;\n",
              "      flex-wrap:wrap;\n",
              "      gap: 12px;\n",
              "    }\n",
              "\n",
              "    .colab-df-convert {\n",
              "      background-color: #E8F0FE;\n",
              "      border: none;\n",
              "      border-radius: 50%;\n",
              "      cursor: pointer;\n",
              "      display: none;\n",
              "      fill: #1967D2;\n",
              "      height: 32px;\n",
              "      padding: 0 0 0 0;\n",
              "      width: 32px;\n",
              "    }\n",
              "\n",
              "    .colab-df-convert:hover {\n",
              "      background-color: #E2EBFA;\n",
              "      box-shadow: 0px 1px 2px rgba(60, 64, 67, 0.3), 0px 1px 3px 1px rgba(60, 64, 67, 0.15);\n",
              "      fill: #174EA6;\n",
              "    }\n",
              "\n",
              "    [theme=dark] .colab-df-convert {\n",
              "      background-color: #3B4455;\n",
              "      fill: #D2E3FC;\n",
              "    }\n",
              "\n",
              "    [theme=dark] .colab-df-convert:hover {\n",
              "      background-color: #434B5C;\n",
              "      box-shadow: 0px 1px 3px 1px rgba(0, 0, 0, 0.15);\n",
              "      filter: drop-shadow(0px 1px 2px rgba(0, 0, 0, 0.3));\n",
              "      fill: #FFFFFF;\n",
              "    }\n",
              "  </style>\n",
              "\n",
              "      <script>\n",
              "        const buttonEl =\n",
              "          document.querySelector('#df-e622adc5-f966-4061-b77f-6f8efae26f85 button.colab-df-convert');\n",
              "        buttonEl.style.display =\n",
              "          google.colab.kernel.accessAllowed ? 'block' : 'none';\n",
              "\n",
              "        async function convertToInteractive(key) {\n",
              "          const element = document.querySelector('#df-e622adc5-f966-4061-b77f-6f8efae26f85');\n",
              "          const dataTable =\n",
              "            await google.colab.kernel.invokeFunction('convertToInteractive',\n",
              "                                                     [key], {});\n",
              "          if (!dataTable) return;\n",
              "\n",
              "          const docLinkHtml = 'Like what you see? Visit the ' +\n",
              "            '<a target=\"_blank\" href=https://colab.research.google.com/notebooks/data_table.ipynb>data table notebook</a>'\n",
              "            + ' to learn more about interactive tables.';\n",
              "          element.innerHTML = '';\n",
              "          dataTable['output_type'] = 'display_data';\n",
              "          await google.colab.output.renderOutput(dataTable, element);\n",
              "          const docLink = document.createElement('div');\n",
              "          docLink.innerHTML = docLinkHtml;\n",
              "          element.appendChild(docLink);\n",
              "        }\n",
              "      </script>\n",
              "    </div>\n",
              "  </div>\n",
              "  "
            ]
          },
          "metadata": {},
          "execution_count": 103
        }
      ]
    },
    {
      "cell_type": "markdown",
      "metadata": {
        "id": "P24icHBFbncY"
      },
      "source": [
        "> *Your answer here*"
      ]
    },
    {
      "cell_type": "markdown",
      "metadata": {
        "id": "MN1_Tw7PbncY"
      },
      "source": [
        "## Specifying date columns while reading\n",
        "\n",
        "Pass a list of date columns to `parse_dates`"
      ]
    },
    {
      "cell_type": "code",
      "execution_count": null,
      "metadata": {
        "scrolled": true,
        "id": "xq2l7ktobncY",
        "outputId": "4930812d-f13a-464a-daa4-defe40d6a86e",
        "colab": {
          "base_uri": "https://localhost:8080/"
        }
      },
      "outputs": [
        {
          "output_type": "execute_result",
          "data": {
            "text/plain": [
              "Date/Time    datetime64[ns]\n",
              "Lat                 float64\n",
              "Lon                 float64\n",
              "Base                 object\n",
              "dtype: object"
            ]
          },
          "metadata": {},
          "execution_count": 104
        }
      ],
      "source": [
        "from toolz import first\n",
        "uber_april_with_datetime = pd.read_csv(\"./data/uber/uber-trip-data/uber-raw-data-apr14.csv\", \n",
        "                                       parse_dates=['Date/Time'])\n",
        "\n",
        "uber_april_with_datetime.dtypes"
      ]
    },
    {
      "cell_type": "markdown",
      "metadata": {
        "id": "fwsozHYWbncY"
      },
      "source": [
        "## Explicit date parsing\n",
        "\n",
        "* Create a parser function\n",
        "* Pass to `date_parser`\n",
        "* Use if `pandas` fails to parse\n",
        "* More information about format codes [here](https://docs.python.org/2/library/datetime.html#strftime-strptime-behavior)"
      ]
    },
    {
      "cell_type": "code",
      "execution_count": null,
      "metadata": {
        "scrolled": true,
        "id": "DY6n7EVUbncY",
        "outputId": "f936b919-2290-47cd-b403-00ef0ba924f3",
        "colab": {
          "base_uri": "https://localhost:8080/",
          "height": 148
        }
      },
      "outputs": [
        {
          "output_type": "stream",
          "name": "stderr",
          "text": [
            "/usr/local/lib/python3.7/dist-packages/pandas/io/parsers/base_parser.py:1055: FutureWarning: \n",
            "        Use pd.to_datetime instead.\n",
            "\n",
            "  return generic_parser(date_parser, *date_cols)\n"
          ]
        },
        {
          "output_type": "error",
          "ename": "ValueError",
          "evalue": "ignored",
          "traceback": [
            "\u001b[0;31mValueError\u001b[0m\u001b[0;31m:\u001b[0m time data 4/1/2014 0:11:00 doesn't match format specified\n"
          ]
        }
      ],
      "source": [
        "dateparse = lambda x: pd.to_datetime(x, format = \"%Y-%m-%d %H:%M:%S\")\n",
        "uber_april_parsered = pd.read_csv('./data/uber/uber-trip-data/uber-raw-data-apr14.csv', \n",
        "                              parse_dates=['Date/Time'],\n",
        "                              date_parser=dateparse)\n",
        "uber_april_parsered.head()"
      ]
    },
    {
      "cell_type": "markdown",
      "metadata": {
        "id": "BKDAbWGLbncY"
      },
      "source": [
        "## Categorical dtype\n",
        "\n",
        "* Similar to `R`s factor\n",
        "* Allows for nominal or ordinal categories"
      ]
    },
    {
      "cell_type": "code",
      "execution_count": null,
      "metadata": {
        "scrolled": false,
        "id": "5t2aRr-ubncY",
        "outputId": "655c4e86-c0b0-48e6-e9b8-edbdfe53300f",
        "colab": {
          "base_uri": "https://localhost:8080/"
        }
      },
      "outputs": [
        {
          "output_type": "execute_result",
          "data": {
            "text/plain": [
              "Lat               float64\n",
              "Lon               float64\n",
              "Base               object\n",
              "date       datetime64[ns]\n",
              "weekday          category\n",
              "dtype: object"
            ]
          },
          "metadata": {},
          "execution_count": 106
        }
      ],
      "source": [
        "uber_april_weekday_cat = (uber_april_weekday >>\n",
        "                            mutate(weekday = X.weekday.astype('category')))\n",
        "uber_april_weekday_cat.dtypes"
      ]
    },
    {
      "cell_type": "markdown",
      "metadata": {
        "id": "FDw2v7Z5bncZ"
      },
      "source": [
        "## Let's plot the weekdays with `seaborn.catplot`"
      ]
    },
    {
      "cell_type": "code",
      "execution_count": null,
      "metadata": {
        "id": "uAF0yGVObncZ"
      },
      "outputs": [],
      "source": [
        "import pandas as pd\n",
        "import matplotlib.pyplot as plt\n",
        "import seaborn as sns"
      ]
    },
    {
      "cell_type": "code",
      "execution_count": null,
      "metadata": {
        "id": "Q4TsBO3dbncZ",
        "outputId": "25d3b7de-1c8f-4d2f-967f-56ebf7b23f2f",
        "colab": {
          "base_uri": "https://localhost:8080/"
        }
      },
      "outputs": [
        {
          "output_type": "display_data",
          "data": {
            "text/plain": [
              "<Figure size 360x360 with 1 Axes>"
            ],
            "image/png": "[encoded data removed]"
          },
          "metadata": {
            "needs_background": "light"
          }
        }
      ],
      "source": [
        "weekday_plot = sns.catplot( x=\"weekday\", \n",
        "                            kind=\"count\", \n",
        "                            palette=\"ch:.25\", \n",
        "                            data=uber_april_weekday_cat)\n",
        "# set title and rotate the long x labels\n",
        "_ = weekday_plot.ax.set_title(\"Uber rides by day of the week\")\n",
        "_ = weekday_plot.ax.set_xticklabels(weekday_plot.ax.get_xticklabels(),rotation=90)"
      ]
    },
    {
      "cell_type": "markdown",
      "metadata": {
        "id": "TZXI9G4MbncZ"
      },
      "source": [
        "## Nominal by default\n",
        "\n",
        "* Setting `'category'` makes this nominal\n",
        "* Weekdays are actually ordinal\n",
        "* Notice the alphabetical order in the plot."
      ]
    },
    {
      "cell_type": "markdown",
      "metadata": {
        "id": "8Q9p7JaybncZ"
      },
      "source": [
        "## Making the data ordinal\n",
        "\n",
        "1. Make a new category class with `CategoricalDtype`\n",
        "2. Use `astype` with your new dtype class"
      ]
    },
    {
      "cell_type": "markdown",
      "metadata": {
        "id": "p0h7KOh5bncZ"
      },
      "source": [
        "#### Making an order weekday category"
      ]
    },
    {
      "cell_type": "code",
      "execution_count": null,
      "metadata": {
        "scrolled": true,
        "id": "HYP88oPmbncZ",
        "outputId": "4759e83b-5e70-41f0-c598-f1309dcca7d3",
        "colab": {
          "base_uri": "https://localhost:8080/"
        }
      },
      "outputs": [
        {
          "output_type": "execute_result",
          "data": {
            "text/plain": [
              "['Monday', 'Tuesday', 'Wednesday', 'Thursday', 'Friday', 'Saturday', 'Sunday']"
            ]
          },
          "metadata": {},
          "execution_count": 109
        }
      ],
      "source": [
        "from calendar import day_name\n",
        "list(day_name)"
      ]
    },
    {
      "cell_type": "code",
      "execution_count": null,
      "metadata": {
        "id": "B4iDp6eTbncZ",
        "outputId": "d8f19c5d-c014-4552-dfa7-51772b202db7",
        "colab": {
          "base_uri": "https://localhost:8080/"
        }
      },
      "outputs": [
        {
          "output_type": "execute_result",
          "data": {
            "text/plain": [
              "CategoricalDtype(categories=['Monday', 'Tuesday', 'Wednesday', 'Thursday', 'Friday',\n",
              "                  'Saturday', 'Sunday'],\n",
              ", ordered=True)"
            ]
          },
          "metadata": {},
          "execution_count": 110
        }
      ],
      "source": [
        "weekday_categories = pd.CategoricalDtype(categories=list(day_name),\n",
        "                                     ordered=True)\n",
        "weekday_categories"
      ]
    },
    {
      "cell_type": "markdown",
      "metadata": {
        "id": "fcUtaaJDbncZ"
      },
      "source": [
        "#### Changing to our custom type"
      ]
    },
    {
      "cell_type": "code",
      "execution_count": null,
      "metadata": {
        "scrolled": false,
        "id": "4Qlkk5kKbnca",
        "outputId": "7a73e84b-0a3c-469e-a76b-f35c4716340a",
        "colab": {
          "base_uri": "https://localhost:8080/"
        }
      },
      "outputs": [
        {
          "output_type": "execute_result",
          "data": {
            "text/plain": [
              "Lat               float64\n",
              "Lon               float64\n",
              "Base               object\n",
              "date       datetime64[ns]\n",
              "weekday          category\n",
              "dtype: object"
            ]
          },
          "metadata": {},
          "execution_count": 111
        }
      ],
      "source": [
        "uber_april_weekday_ord = (uber_april_weekday >>\n",
        "                            mutate(weekday = X.weekday.astype(weekday_categories)))\n",
        "uber_april_weekday_ord.dtypes"
      ]
    },
    {
      "cell_type": "markdown",
      "metadata": {
        "id": "_wy7UVKlbnca"
      },
      "source": [
        "## Plot the ordinal weekdays with `seaborn.catplot`"
      ]
    },
    {
      "cell_type": "code",
      "execution_count": null,
      "metadata": {
        "id": "c3ZoxQiubnca",
        "outputId": "2a4d1c51-06a3-4bbc-e445-505b0faf91d4",
        "colab": {
          "base_uri": "https://localhost:8080/",
          "height": 433
        }
      },
      "outputs": [
        {
          "output_type": "display_data",
          "data": {
            "text/plain": [
              "<Figure size 360x360 with 1 Axes>"
            ],
            "image/png": "[encoded data removed]"
          },
          "metadata": {
            "needs_background": "light"
          }
        }
      ],
      "source": [
        "import seaborn as sns\n",
        "ordered_plot = sns.catplot( x=\"weekday\", \n",
        "                            kind=\"count\", \n",
        "                            palette=\"ch:.25\", \n",
        "                            data=uber_april_weekday_ord)\n",
        "# rotate the long x labels\n",
        "_ = ordered_plot.ax.set_title(\"Uber rides by day of the week\")\n",
        "_ = ordered_plot.ax.set_xticklabels(ordered_plot.ax.get_xticklabels(),rotation=90)"
      ]
    },
    {
      "cell_type": "markdown",
      "metadata": {
        "id": "ekn-mqMMbnca"
      },
      "source": [
        "## <font color=\"red\"> Exercise 4</font>\n",
        "\n",
        "Sometimes there is an advantage to treating calendar years as ordinal data.  Perform the following steps on the `Artist` data loaded above.\n",
        "\n",
        "**Tasks:**\n",
        "\n",
        "1. Remove the `0` from `BeginDate` and switch the type to `Int64`.\n",
        "2. Filter out the rows that are missing `BeginDate`\n",
        "3. Determine the minimum and maximum values of the filtered `BeginDate`s\n",
        "4. Create a new ordinal category class for this date range.\n",
        "5. Use `sns.catplot` to plot the distribution of the dates."
      ]
    },
    {
      "cell_type": "code",
      "source": [
        "artist.BeginDate.min()"
      ],
      "metadata": {
        "colab": {
          "base_uri": "https://localhost:8080/"
        },
        "id": "kLX2m5wL8JSf",
        "outputId": "5502457b-fb85-4a98-8aaa-99ff5516457c"
      },
      "execution_count": null,
      "outputs": [
        {
          "output_type": "execute_result",
          "data": {
            "text/plain": [
              "0"
            ]
          },
          "metadata": {},
          "execution_count": 113
        }
      ]
    },
    {
      "cell_type": "code",
      "execution_count": null,
      "metadata": {
        "id": "lXeNTwQ-bnca",
        "colab": {
          "base_uri": "https://localhost:8080/"
        },
        "outputId": "12586b83-4c17-47ea-fe19-14d1555351d4"
      },
      "outputs": [
        {
          "output_type": "execute_result",
          "data": {
            "text/plain": [
              "(15250, 1)"
            ]
          },
          "metadata": {},
          "execution_count": 114
        }
      ],
      "source": [
        "# Your code here\n",
        "transformed_BD = (artist >>\n",
        "                  mutate(BeginDate = X.BeginDate.apply(lambda val: np.nan if val == 0 else val)) >>\n",
        "                  select(X.BeginDate)\n",
        "                  )\n",
        "transformed_BD.shape\n",
        "# transformed_BD.head()\n"
      ]
    },
    {
      "cell_type": "code",
      "source": [
        "filtBD = (transformed_BD\n",
        "          >> filter_by(X.BeginDate > 1180)\n",
        "          )\n",
        "filtBD.shape"
      ],
      "metadata": {
        "colab": {
          "base_uri": "https://localhost:8080/"
        },
        "id": "UtxEWd956Exl",
        "outputId": "8a33fee3-6d0e-4f66-c7eb-458271aad1bc"
      },
      "execution_count": null,
      "outputs": [
        {
          "output_type": "execute_result",
          "data": {
            "text/plain": [
              "(11602, 1)"
            ]
          },
          "metadata": {},
          "execution_count": 135
        }
      ]
    },
    {
      "cell_type": "code",
      "source": [
        "filtBD.min()"
      ],
      "metadata": {
        "colab": {
          "base_uri": "https://localhost:8080/"
        },
        "id": "Erh6Yz0q9htM",
        "outputId": "eb54cdcc-bc87-4f63-f487-0200335c3cc0"
      },
      "execution_count": null,
      "outputs": [
        {
          "output_type": "execute_result",
          "data": {
            "text/plain": [
              "BeginDate    1181.0\n",
              "dtype: float64"
            ]
          },
          "metadata": {},
          "execution_count": 136
        }
      ]
    },
    {
      "cell_type": "code",
      "source": [
        "filtBD.max()"
      ],
      "metadata": {
        "colab": {
          "base_uri": "https://localhost:8080/"
        },
        "id": "lzmEEPc39S9n",
        "outputId": "ae9d3195-46b3-40da-d859-681bac389061"
      },
      "execution_count": null,
      "outputs": [
        {
          "output_type": "execute_result",
          "data": {
            "text/plain": [
              "BeginDate    2017.0\n",
              "dtype: float64"
            ]
          },
          "metadata": {},
          "execution_count": 137
        }
      ]
    },
    {
      "cell_type": "code",
      "source": [
        "year_categories = pd.CategoricalDtype(categories=list(range (1181,2017)),\n",
        "                                     ordered=True)\n",
        "year_categories"
      ],
      "metadata": {
        "id": "9emEMz909ms6",
        "colab": {
          "base_uri": "https://localhost:8080/"
        },
        "outputId": "f9bdf8d7-b105-42d1-8e5f-067b6bd1919b"
      },
      "execution_count": null,
      "outputs": [
        {
          "output_type": "execute_result",
          "data": {
            "text/plain": [
              "CategoricalDtype(categories=[1181, 1182, 1183, 1184, 1185, 1186, 1187, 1188, 1189, 1190,\n",
              "                  ...\n",
              "                  2007, 2008, 2009, 2010, 2011, 2012, 2013, 2014, 2015, 2016],\n",
              ", ordered=True)"
            ]
          },
          "metadata": {},
          "execution_count": 138
        }
      ]
    },
    {
      "cell_type": "code",
      "source": [
        "filtBDord = (filtBD >>\n",
        "              mutate(BeginDate = X.BeginDate.astype(year_categories)))\n",
        "filtBDord.dtypes"
      ],
      "metadata": {
        "colab": {
          "base_uri": "https://localhost:8080/"
        },
        "id": "XtAbMWgc_XCP",
        "outputId": "e76ab216-d795-45e5-9d21-f47f3ae24a71"
      },
      "execution_count": null,
      "outputs": [
        {
          "output_type": "execute_result",
          "data": {
            "text/plain": [
              "BeginDate    category\n",
              "dtype: object"
            ]
          },
          "metadata": {},
          "execution_count": 139
        }
      ]
    },
    {
      "cell_type": "code",
      "source": [
        "import seaborn as sns\n",
        "ordered_plot = sns.catplot( x=\"BeginDate\", \n",
        "                            kind=\"count\", \n",
        "                            palette=\"ch:.25\", \n",
        "                            data=filtBDord)\n",
        "# rotate the long x labels\n",
        "_ = ordered_plot.ax.set_title(\"Number of Works\")\n",
        "_ = ordered_plot.ax.set_xticklabels(ordered_plot.ax.get_xticklabels(),rotation=90)"
      ],
      "metadata": {
        "colab": {
          "base_uri": "https://localhost:8080/",
          "height": 401
        },
        "id": "6zOAqufu_KJ3",
        "outputId": "08525f4a-45e4-42db-a8cd-c115df2ddcd6"
      },
      "execution_count": null,
      "outputs": [
        {
          "output_type": "display_data",
          "data": {
            "text/plain": [
              "<Figure size 360x360 with 1 Axes>"
            ],
            "image/png": "[encoded data removed]"
          },
          "metadata": {
            "needs_background": "light"
          }
        }
      ]
    },
    {
      "cell_type": "markdown",
      "metadata": {
        "id": "RPiknMapbnca"
      },
      "source": [
        "> *Your answer here*"
      ]
    }
  ],
  "metadata": {
    "celltoolbar": "Slideshow",
    "kernelspec": {
      "display_name": "Python 3 (ipykernel)",
      "language": "python",
      "name": "python3"
    },
    "language_info": {
      "codemirror_mode": {
        "name": "ipython",
        "version": 3
      },
      "file_extension": ".py",
      "mimetype": "text/x-python",
      "name": "python",
      "nbconvert_exporter": "python",
      "pygments_lexer": "ipython3",
      "version": "3.9.12"
    },
    "varInspector": {
      "cols": {
        "lenName": 16,
        "lenType": 16,
        "lenVar": 40
      },
      "kernels_config": {
        "python": {
          "delete_cmd_postfix": "",
          "delete_cmd_prefix": "del ",
          "library": "var_list.py",
          "varRefreshCmd": "print(var_dic_list())"
        },
        "r": {
          "delete_cmd_postfix": ") ",
          "delete_cmd_prefix": "rm(",
          "library": "var_list.r",
          "varRefreshCmd": "cat(var_dic_list()) "
        }
      },
      "types_to_exclude": [
        "module",
        "function",
        "builtin_function_or_method",
        "instance",
        "_Feature"
      ],
      "window_display": false
    },
    "colab": {
      "provenance": [],
      "include_colab_link": true
    }
  },
  "nbformat": 4,
  "nbformat_minor": 0
}